{
 "cells": [
  {
   "cell_type": "markdown",
   "metadata": {},
   "source": [
    "# Scipy"
   ]
  },
  {
   "cell_type": "markdown",
   "metadata": {},
   "source": [
    "Scipy is a campanion module of numpy containing a large number of subroutines useful for scientific computation. It is organized  in a set of submodules, referred to different specializes areas:\n",
    "\n",
    "* **cluster**:\t    Clustering algorithms\n",
    "* **constants**:\tPhysical and mathematical constants\n",
    "* **fftpack**:\tFast Fourier Transform routines\n",
    "* **integrate**:\tIntegration and ordinary differential equation solvers\n",
    "* **interpolate**:\tInterpolation and smoothing splines\n",
    "* **io**:\tInput and Output\n",
    "* **linalg**:\tLinear algebra\n",
    "* **ndimage**:\tN-dimensional image processing\n",
    "* **odr**:\tOrthogonal distance regression\n",
    "* **optimize**:\tOptimization and root-finding routines\n",
    "* **signal**:\tSignal processing\n",
    "* **sparse**:\tSparse matrices and associated routines\n",
    "* **spatial**:\tSpatial data structures and algorithms\n",
    "* **special**:\tSpecial functions\n",
    "* **stats**:\tStatistical distributions and functions\n",
    "* **weave**:\tC/C++ integration\n",
    "\n",
    "Scipy submodules cover a vast array of different subjects of numerical scientific applicacions. Here we will cover just a few examples. For a full description of this package, you should visit http://www.scipy.org/"
   ]
  },
  {
   "cell_type": "markdown",
   "metadata": {},
   "source": [
    "The submodules must be imported separately. So if we want to use physical constants:"
   ]
  },
  {
   "cell_type": "code",
   "execution_count": null,
   "metadata": {
    "collapsed": true
   },
   "outputs": [],
   "source": [
    "import numpy as np\n",
    "import matplotlib.pyplot as plt\n",
    "%matplotlib inline\n",
    "# importing scipy in abbreaviated form\n",
    "import scipy as sp\n",
    "\n",
    "# import constants\n",
    "import scipy.constants as cst"
   ]
  },
  {
   "cell_type": "markdown",
   "metadata": {},
   "source": [
    "You can find informacion about what is inside the modely using the tab completion on the object structure of the modules. In the case of the physical constants"
   ]
  },
  {
   "cell_type": "code",
   "execution_count": null,
   "metadata": {
    "collapsed": false
   },
   "outputs": [],
   "source": [
    "#finding information with tab completion\n",
    "cst.  # press TAB !!!"
   ]
  },
  {
   "cell_type": "markdown",
   "metadata": {},
   "source": [
    "In many cases, the values stored in scipy can be accessed in the form of a dictionary"
   ]
  },
  {
   "cell_type": "code",
   "execution_count": null,
   "metadata": {
    "collapsed": false
   },
   "outputs": [],
   "source": [
    "# exploring diccionary of values\n",
    "print cst.physical_constants.keys()"
   ]
  },
  {
   "cell_type": "code",
   "execution_count": null,
   "metadata": {
    "collapsed": false
   },
   "outputs": [],
   "source": [
    "# Access some values\n",
    "print cst.physical_constants['Wien displacement law constant'] "
   ]
  },
  {
   "cell_type": "markdown",
   "metadata": {},
   "source": [
    "## Special functions"
   ]
  },
  {
   "cell_type": "code",
   "execution_count": null,
   "metadata": {
    "collapsed": true
   },
   "outputs": [],
   "source": [
    "# import the module of special functions\n",
    "from scipy import special"
   ]
  },
  {
   "cell_type": "code",
   "execution_count": null,
   "metadata": {
    "collapsed": false
   },
   "outputs": [],
   "source": [
    "# explore with tab completion\n",
    "special.  # press TAB!"
   ]
  },
  {
   "cell_type": "markdown",
   "metadata": {},
   "source": [
    "Some examples:"
   ]
  },
  {
   "cell_type": "code",
   "execution_count": null,
   "metadata": {
    "collapsed": false
   },
   "outputs": [],
   "source": [
    "# gamma function\n",
    "z = np.linspace(0,10, 100)\n",
    "plt.loglog(z,special.gamma(z))"
   ]
  },
  {
   "cell_type": "code",
   "execution_count": null,
   "metadata": {
    "collapsed": false
   },
   "outputs": [],
   "source": [
    "# bessel function of the first kind of real order v\n",
    "plt.plot(z, special.jv(1.5, z))"
   ]
  },
  {
   "cell_type": "markdown",
   "metadata": {},
   "source": [
    "## Numerical integration"
   ]
  },
  {
   "cell_type": "markdown",
   "metadata": {},
   "source": [
    "Numerical integrals of the form\n",
    "\n",
    "$$\n",
    "    \\int_a^b f(x) dx\n",
    "$$\n",
    "\n",
    "can be performed numerically using the function `scipy.integrate.quad()`\n",
    "\n",
    "To use it, we first define the function to integrate"
   ]
  },
  {
   "cell_type": "code",
   "execution_count": null,
   "metadata": {
    "collapsed": true
   },
   "outputs": [],
   "source": [
    "def f(x):\n",
    "    return x/np.cos(x)"
   ]
  },
  {
   "cell_type": "code",
   "execution_count": null,
   "metadata": {
    "collapsed": true
   },
   "outputs": [],
   "source": [
    "x_up = 0.0; x_low = 1.0\n",
    "\n",
    "# perform the integral and compute its value and the numerical error made\n",
    "\n",
    "integral, error = sp.integrate.quad(f, x_up, x_low)"
   ]
  },
  {
   "cell_type": "code",
   "execution_count": null,
   "metadata": {
    "collapsed": false
   },
   "outputs": [],
   "source": [
    "print \"Integral value %f, error %f\" % (integral, error)"
   ]
  },
  {
   "cell_type": "markdown",
   "metadata": {},
   "source": [
    "## Ordinary differential equations"
   ]
  },
  {
   "cell_type": "markdown",
   "metadata": {},
   "source": [
    "The general integration function, for any kind of differential equations, ins the odeint function in the integrate submodule. \n",
    "\n",
    "This function is simply a wrapper to the highly optimized Fortran odepack library. It is almost impossible to code by hand something more efficient, so solving differential equations in python is already as fast as it can get, with the minimal overhad of translating a few initialization parameters from python to fortran."
   ]
  },
  {
   "cell_type": "markdown",
   "metadata": {},
   "source": [
    "The function odeing only admits systems of equations of the first order, so second order equations must be transformed by introducing auxiliary variables.\n",
    "\n",
    "In the simplest setting, odeint is called as follows:\n",
    "\n",
    "    odeint(function, initial_conditions, time_slice)\n",
    "    \n",
    "Function is a python function defining the right-hand side of the differential equation we want to integrate\n",
    "time_slice is the points in time in which we want to have evaluated the integrated function\n",
    "Notice that time_slice has nothing to do with the time step of the integration\n",
    "\n",
    "Let us look at an example"
   ]
  },
  {
   "cell_type": "code",
   "execution_count": null,
   "metadata": {
    "collapsed": true
   },
   "outputs": [],
   "source": [
    "# load the submodule first\n",
    "from scipy.integrate import odeint"
   ]
  },
  {
   "cell_type": "markdown",
   "metadata": {},
   "source": [
    "As a classical example, let us consider the Lorenz attractor, a non-linear set of differential equations proposed to  model of atmospheric convection and in which it was first observed the presence of chaos:\n",
    "\n",
    "$$\n",
    "\\frac{d x}{dt}  =  a (y-x)\\\\\n",
    "\\frac{d y}{dt}  = b x - y - x z\\\\\n",
    "\\frac{d z}{dt}  = x y - cz\n",
    "$$\n",
    "\n",
    "Translating the system to odeint notation, the function is \n",
    "\n",
    "$$\n",
    "f\\left(x, y, x\\right) = \\left(a (y-x), b x - y - x z, x y - cz\\right)\n",
    "$$\n",
    "\n",
    "Defining it as a python function:"
   ]
  },
  {
   "cell_type": "code",
   "execution_count": null,
   "metadata": {
    "collapsed": true
   },
   "outputs": [],
   "source": [
    "# Lorenz equation function\n",
    "\n",
    "# state[0] => x, state[1] => y, state[2] => z\n",
    "\n",
    "def lorentz(state, t):\n",
    "    # define parameters\n",
    "    a, b, c = 10.0, 28, 8.0/3.0\n",
    "    \n",
    "    x = state[0]\n",
    "    y = state[1]\n",
    "    z = state[2]\n",
    "    \n",
    "    dx = a*(y - x)\n",
    "    dy = b*x - y - x*z\n",
    "    dz = x*y - c*z\n",
    "    \n",
    "    return [dx, dy, dz]"
   ]
  },
  {
   "cell_type": "code",
   "execution_count": null,
   "metadata": {
    "collapsed": true
   },
   "outputs": [],
   "source": [
    "#define time slice\n",
    "t = np.linspace(0, 20, 1000);"
   ]
  },
  {
   "cell_type": "code",
   "execution_count": null,
   "metadata": {
    "collapsed": true
   },
   "outputs": [],
   "source": [
    "# initial conditions\n",
    "x0 = [2.0, 3.0, 4.0]"
   ]
  },
  {
   "cell_type": "code",
   "execution_count": null,
   "metadata": {
    "collapsed": true
   },
   "outputs": [],
   "source": [
    "# solve\n",
    "sol = odeint(lorentz, x0, t)"
   ]
  },
  {
   "cell_type": "markdown",
   "metadata": {},
   "source": [
    "The solution comes with the different variables stored as columns of an array. To obtain them:"
   ]
  },
  {
   "cell_type": "code",
   "execution_count": null,
   "metadata": {
    "collapsed": true
   },
   "outputs": [],
   "source": [
    "X, Y, Z = sol[:,0], sol[:,1], sol[:,2]"
   ]
  },
  {
   "cell_type": "code",
   "execution_count": null,
   "metadata": {
    "collapsed": false
   },
   "outputs": [],
   "source": [
    "# plot each variable as a function of time\n",
    "plt.plot(t,X, t, Y, t, Z)"
   ]
  },
  {
   "cell_type": "code",
   "execution_count": null,
   "metadata": {
    "collapsed": false
   },
   "outputs": [],
   "source": [
    "# plot the attractor in phase space, with some matplotlib magic to make a 3d plot\n",
    "import matplotlib.pyplot as pyplt\n",
    "from mpl_toolkits.mplot3d import Axes3D\n",
    "fig = pyplt.figure()\n",
    "ax = fig.add_subplot(111, projection='3d')\n",
    "ax.plot3D(X, Y, Z)"
   ]
  },
  {
   "cell_type": "markdown",
   "metadata": {},
   "source": [
    "## Fourier transformation"
   ]
  },
  {
   "cell_type": "markdown",
   "metadata": {},
   "source": [
    "Numerical Fourier transformations ara an important tool in physics. They allow, for example, to determine the principal frequencies in which a periodic signal can be decomposed.\n",
    "\n",
    "The theory of numerical Fourier transformation is quite subtle, but scipy can take care of all de details for us. The tools for FT are in the subpackage `scipy.fftpack`\n",
    "\n"
   ]
  },
  {
   "cell_type": "code",
   "execution_count": null,
   "metadata": {
    "collapsed": true
   },
   "outputs": [],
   "source": [
    "import scipy.fftpack as fft"
   ]
  },
  {
   "cell_type": "code",
   "execution_count": null,
   "metadata": {
    "collapsed": false
   },
   "outputs": [],
   "source": [
    "# Example\n",
    "t = np.linspace(0.0, 1000.0, 2000)\n",
    "# let us create a complex signal with several harmonics\n",
    "y = 0.5*np.cos(t/5) + 0.10*np.cos(t/10) + 0.15*np.cos(t/15)\n",
    "plt.plot(t, y)"
   ]
  },
  {
   "cell_type": "code",
   "execution_count": null,
   "metadata": {
    "collapsed": false
   },
   "outputs": [],
   "source": [
    "# calculate the fast fourier transform\n",
    "f = fft.fft(y)"
   ]
  },
  {
   "cell_type": "code",
   "execution_count": null,
   "metadata": {
    "collapsed": false
   },
   "outputs": [],
   "source": [
    "# compute the frequencies corresponding to the time interval considered\n",
    "dt = t[1] - t[0]\n",
    "w = fft.fftfreq(t.size, dt)"
   ]
  },
  {
   "cell_type": "code",
   "execution_count": null,
   "metadata": {
    "collapsed": false
   },
   "outputs": [],
   "source": [
    "plt.loglog(w, np.abs(f))"
   ]
  },
  {
   "cell_type": "markdown",
   "metadata": {},
   "source": [
    "We can see the three peaks, corresponding to the three frequencies we introduced in the signal."
   ]
  },
  {
   "cell_type": "markdown",
   "metadata": {},
   "source": [
    "Let us see what happens when we introduce some noise into the signal"
   ]
  },
  {
   "cell_type": "code",
   "execution_count": null,
   "metadata": {
    "collapsed": false
   },
   "outputs": [],
   "source": [
    "y = 0.5*np.cos(t/5) + 0.10*np.cos(t/10) + 0.15*np.cos(t/15) + 0.1*np.random.randn(t.size)\n",
    "plt.plot(t, y)"
   ]
  },
  {
   "cell_type": "code",
   "execution_count": null,
   "metadata": {
    "collapsed": false
   },
   "outputs": [],
   "source": [
    "# calculate the fast fourier transform\n",
    "f = fft.fft(y)\n",
    "# compute the frequencies corresponding to the time interval considered\n",
    "dt = t[1] - t[0]\n",
    "w = fft.fftfreq(t.size, dt)\n",
    "plt.loglog(w, np.abs(f))"
   ]
  },
  {
   "cell_type": "markdown",
   "metadata": {},
   "source": [
    "We can still detect the three peaks, more or less in the same position"
   ]
  },
  {
   "cell_type": "markdown",
   "metadata": {},
   "source": [
    "## Optimization"
   ]
  },
  {
   "cell_type": "markdown",
   "metadata": {},
   "source": [
    "Other important problem we commonly face in scientific computing is to compute the extremes of a function. We can do it with the scipy subpackage `scipy.optimize'"
   ]
  },
  {
   "cell_type": "code",
   "execution_count": null,
   "metadata": {
    "collapsed": false
   },
   "outputs": [],
   "source": [
    "import scipy.optimize as opt"
   ]
  },
  {
   "cell_type": "markdown",
   "metadata": {},
   "source": [
    "Let us create some fake data of complex form"
   ]
  },
  {
   "cell_type": "code",
   "execution_count": null,
   "metadata": {
    "collapsed": true
   },
   "outputs": [],
   "source": [
    "def f(x):\n",
    "    return -x**1.5*np.exp(-(x**0.5 - .7)**2) - 0.01*x**2"
   ]
  },
  {
   "cell_type": "code",
   "execution_count": null,
   "metadata": {
    "collapsed": false
   },
   "outputs": [],
   "source": [
    "x = np.linspace(0, 10, 100)\n",
    "plt.plot(x, f(x))"
   ]
  },
  {
   "cell_type": "code",
   "execution_count": null,
   "metadata": {
    "collapsed": false
   },
   "outputs": [],
   "source": [
    "# we have to indicate a point, so the algorithm will find minima arround this value\n",
    "x_min = opt.fmin_bfgs(f, 2)\n",
    "x_min[0]"
   ]
  },
  {
   "cell_type": "code",
   "execution_count": null,
   "metadata": {
    "collapsed": false
   },
   "outputs": [],
   "source": [
    "plt.plot(x, f(x), x_min, f(x_min), \"o\")"
   ]
  },
  {
   "cell_type": "markdown",
   "metadata": {},
   "source": [
    "For the maxima, we can use the trick"
   ]
  },
  {
   "cell_type": "code",
   "execution_count": null,
   "metadata": {
    "collapsed": false
   },
   "outputs": [],
   "source": [
    "def f2(x):\n",
    "    return -f(x)\n",
    "plt.plot(x, f2(x))"
   ]
  },
  {
   "cell_type": "code",
   "execution_count": null,
   "metadata": {
    "collapsed": false
   },
   "outputs": [],
   "source": [
    "x_max = opt.fmin_bfgs(f2, 8)\n",
    "x_max[0]"
   ]
  },
  {
   "cell_type": "code",
   "execution_count": null,
   "metadata": {
    "collapsed": false
   },
   "outputs": [],
   "source": [
    "plt.plot(x, f(x), x_min, f(x_min), \"o\", x_max, f(x_max), \"o\")"
   ]
  },
  {
   "cell_type": "code",
   "execution_count": null,
   "metadata": {
    "collapsed": true
   },
   "outputs": [],
   "source": []
  }
 ],
 "metadata": {
  "kernelspec": {
   "display_name": "Python 2",
   "language": "python",
   "name": "python2"
  },
  "language_info": {
   "codemirror_mode": {
    "name": "ipython",
    "version": 2
   },
   "file_extension": ".py",
   "mimetype": "text/x-python",
   "name": "python",
   "nbconvert_exporter": "python",
   "pygments_lexer": "ipython2",
   "version": "2.7.11"
  }
 },
 "nbformat": 4,
 "nbformat_minor": 0
}
