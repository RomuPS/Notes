{
 "cells": [
  {
   "cell_type": "markdown",
   "metadata": {
    "slideshow": {
     "slide_type": "slide"
    }
   },
   "source": [
    "# Numpy"
   ]
  },
  {
   "cell_type": "markdown",
   "metadata": {
    "slideshow": {
     "slide_type": "slide"
    }
   },
   "source": [
    "## Introduction to numpy arrays"
   ]
  },
  {
   "cell_type": "markdown",
   "metadata": {
    "slideshow": {
     "slide_type": "fragment"
    }
   },
   "source": [
    "* The numpy module is the essential workhorse of scientific computing in python\n",
    "* The numpy module provides access to numpy multidimensional arrays\n",
    "* Lists in python are very flexible and versatile, but they don't have a predefined type and are not generaly stored in consecutive positions in memory; it is therefore quite time-consuming to interate over them to make mathematical operations\n",
    "* Numpy implements arrays coded in C, stored in contiguous memory positions, and having all of them the same type\n",
    "* Structure of a numpy array: Header with metadata plus the real data itself\n",
    "\n",
    "<img src=\"threefundamental.jpg\">\n",
    "\n",
    "* Being coded in C, numpy arrays offer a much better performance in looping\n",
    "* Moreover, numpy arrays behave as vectors in other languages (Matlab): Multiplication of arrays is defined element-wise\n",
    "* Vectorialized code in numpy takes full advantage of the hard coded C part, and can accelerate enormously python calculations: iterating over arrays to make calculations is slower that using the vectorial operations\n"
   ]
  },
  {
   "cell_type": "markdown",
   "metadata": {
    "slideshow": {
     "slide_type": "fragment"
    }
   },
   "source": [
    "To use numpy, we have first we have to load the module"
   ]
  },
  {
   "cell_type": "code",
   "execution_count": null,
   "metadata": {
    "collapsed": false,
    "slideshow": {
     "slide_type": "fragment"
    }
   },
   "outputs": [],
   "source": [
    "# loading numpy in abbreaviated form\n",
    "import numpy as np"
   ]
  },
  {
   "cell_type": "code",
   "execution_count": null,
   "metadata": {
    "collapsed": true
   },
   "outputs": [],
   "source": [
    "# import also useful stuff\n",
    "import math\n",
    "import matplotlib\n",
    "import matplotlib.pyplot as plt\n",
    "%matplotlib inline\n",
    "%config  InlineBackend.figure_format=\"svg\""
   ]
  },
  {
   "cell_type": "markdown",
   "metadata": {},
   "source": [
    "## Create numpy arrays"
   ]
  },
  {
   "cell_type": "markdown",
   "metadata": {},
   "source": [
    "### From a list"
   ]
  },
  {
   "cell_type": "code",
   "execution_count": null,
   "metadata": {
    "collapsed": false
   },
   "outputs": [],
   "source": [
    "# From an array\n",
    "arr = np.array([1,3,5,7,8,9])\n",
    "print arr"
   ]
  },
  {
   "cell_type": "code",
   "execution_count": null,
   "metadata": {
    "collapsed": true
   },
   "outputs": [],
   "source": [
    "x = [i/10.0 for i in range(1, 100)]\n",
    "y = [math.sin(float(i)) for i in x]\n",
    "x = np.array(x)\n",
    "y = np.array(y)"
   ]
  },
  {
   "cell_type": "markdown",
   "metadata": {},
   "source": [
    "### Useful buil-in array creation functions"
   ]
  },
  {
   "cell_type": "code",
   "execution_count": null,
   "metadata": {
    "collapsed": false
   },
   "outputs": [],
   "source": [
    "# Built in useful creation of arrays\n",
    "\n",
    "n = 1000  \n",
    "\n",
    "# array of ones of lenght n\n",
    "one = np.ones(n)\n",
    "print \"Ones:\", one[:10]\n",
    "\n",
    "# array of zeros of lenght n (useful to initialize counters)\n",
    "zero = np.zeros(n)\n",
    "print \"Zeros:\", zero[:10]\n",
    "\n",
    "# array with some starting point, end point, and step between points\n",
    "arr = np.arange(5.1, 11.5, 0.3)\n",
    "print \"Generic:\", arr[:10]\n",
    "print \"Generic, last element:\", arr[-1]\n",
    "\n",
    "# equi-spaced linear space with start, end, and number of points\n",
    "lin = np.linspace(1, 50, 10)\n",
    "print \"Linear space:\", lin\n",
    "\n",
    "# equi-spaced log space with start, end, and number of points\n",
    "log = np.logspace(np.log10(1), np.log10(50), 10)\n",
    "print \"Logarithmic space:\", log"
   ]
  },
  {
   "cell_type": "markdown",
   "metadata": {},
   "source": [
    "## Properties of numpy arrays"
   ]
  },
  {
   "cell_type": "code",
   "execution_count": null,
   "metadata": {
    "collapsed": false
   },
   "outputs": [],
   "source": [
    "# size\n",
    "print x.size"
   ]
  },
  {
   "cell_type": "code",
   "execution_count": null,
   "metadata": {
    "collapsed": true
   },
   "outputs": [],
   "source": [
    "# type"
   ]
  },
  {
   "cell_type": "code",
   "execution_count": null,
   "metadata": {
    "collapsed": false
   },
   "outputs": [],
   "source": [
    "a1 = np.array([0,2,3])\n",
    "print a1.dtype"
   ]
  },
  {
   "cell_type": "code",
   "execution_count": null,
   "metadata": {
    "collapsed": false
   },
   "outputs": [],
   "source": [
    "a2 = np.array([0.0,2.0,3.0])\n",
    "print a2.dtype"
   ]
  },
  {
   "cell_type": "markdown",
   "metadata": {},
   "source": [
    "### Specify the type of an array"
   ]
  },
  {
   "cell_type": "code",
   "execution_count": null,
   "metadata": {
    "collapsed": false
   },
   "outputs": [],
   "source": [
    "# array on integer zeros\n",
    "a1 = np.zeros(100, dtype=int)\n",
    "print a1[:10]"
   ]
  },
  {
   "cell_type": "code",
   "execution_count": null,
   "metadata": {
    "collapsed": false
   },
   "outputs": [],
   "source": [
    "# array on float ones\n",
    "a2 = np.ones(100, dtype=float)\n",
    "print a2[:10]"
   ]
  },
  {
   "cell_type": "markdown",
   "metadata": {},
   "source": [
    "## Multidimensional numpy arrays"
   ]
  },
  {
   "cell_type": "markdown",
   "metadata": {},
   "source": [
    "Numpy arrays can be multidimensional. We can define arrays of dimension $N \\times M$ (matrices) or of larger dimensionality"
   ]
  },
  {
   "cell_type": "code",
   "execution_count": null,
   "metadata": {
    "collapsed": false
   },
   "outputs": [],
   "source": [
    "# Create an 4x4 array\n",
    "mat = np.array([[0,1,9], [2,3,9], [4,5,9]])\n",
    "print mat"
   ]
  },
  {
   "cell_type": "markdown",
   "metadata": {},
   "source": [
    "Multidimensional arrays can be accessed using standard python slicing notation, and some other useful slicing tricks. Remember however that the numbering of elements starts at 0, as in C, and opposite to fortran or matlab"
   ]
  },
  {
   "cell_type": "code",
   "execution_count": null,
   "metadata": {
    "collapsed": false
   },
   "outputs": [],
   "source": [
    "# you can access the elements using a comma notation, starting at 0\n",
    "print mat[0,0]\n",
    "\n",
    "# or perform slices of columns and rows\n",
    "# ex. accessing the first column\n",
    "print mat[:,0]\n",
    "\n",
    "# or defining directy a list or tuple of coordinates\n",
    "pos = (0, 1)\n",
    "print mat[pos]"
   ]
  },
  {
   "cell_type": "markdown",
   "metadata": {},
   "source": [
    "Also, you can create multidimensional arrays using convenience functions"
   ]
  },
  {
   "cell_type": "code",
   "execution_count": null,
   "metadata": {
    "collapsed": false
   },
   "outputs": [],
   "source": [
    "mat = np.ones((4,4))  # note the special tuple syntax\n",
    "print mat\n",
    "\n",
    "mat = np.zeros((4,4))  # note the special tuple syntax\n",
    "print mat"
   ]
  },
  {
   "cell_type": "markdown",
   "metadata": {},
   "source": [
    "In multidimensional arrays, some of the methods can be applied only along one given axis, using the `axis=` keyword argument\n",
    "\n",
    "Numering of axis follows the C notation: 0 for rows, 1 for columns, etc.\n",
    "\n",
    "<img src=\"axis_2.jpeg\" width=\"200\"> \n",
    "\n",
    "If we specify a method for a given axis, its action will be performed along the given axis, returning a n-1 dimensional array\n",
    "\n",
    "<img src=\"axis.png\" width=\"500\">\n"
   ]
  },
  {
   "cell_type": "code",
   "execution_count": null,
   "metadata": {
    "collapsed": false
   },
   "outputs": [],
   "source": [
    "mat = np.array([[0,1,9], [2,3,9], [4,5,9]])\n",
    "print mat"
   ]
  },
  {
   "cell_type": "code",
   "execution_count": null,
   "metadata": {
    "collapsed": false
   },
   "outputs": [],
   "source": [
    "mat.sum(axis=0)  # sum along the columns, gives the value corresponding to each colum"
   ]
  },
  {
   "cell_type": "code",
   "execution_count": null,
   "metadata": {
    "collapsed": false
   },
   "outputs": [],
   "source": [
    "mat.sum(axis=1)  # sum along the rows, gives the value corresponding to each row"
   ]
  },
  {
   "cell_type": "markdown",
   "metadata": {},
   "source": [
    "## Operations with arrays"
   ]
  },
  {
   "cell_type": "markdown",
   "metadata": {},
   "source": [
    "Numpy arrays behave as vectors, with the caveat that operations are applied in an element-wise fashion, as you may be used from Matlab. When we multiply them by a scalar, sum them, and even apply to them functions (numpy functions, of course), the operation is performed element by element"
   ]
  },
  {
   "cell_type": "code",
   "execution_count": null,
   "metadata": {
    "collapsed": false
   },
   "outputs": [],
   "source": [
    "# create two simple numpy arrays\n",
    "x = np.array([1, 2, 3, 4, 5])\n",
    "y = np.array([6, 7, 8, 9, 10])\n",
    "\n",
    "print 2 * x\n",
    "print x + y"
   ]
  },
  {
   "cell_type": "markdown",
   "metadata": {},
   "source": [
    "## Numpy functions and methods"
   ]
  },
  {
   "cell_type": "markdown",
   "metadata": {},
   "source": [
    "Numpy offers many commodity functions, sometimes stored inside submodules, specially designed to deal with numpy arrays in a fast way. Numpy functions are accesses using the dot notation `np.`\n",
    "\n",
    "Apart from this functions, numpy arrays are fully-fledges objects, so they have associated many methods that can replace functions. Methods are called with the usual dot nomenclature, in object oriented programming\n",
    "\n",
    "     object.method(parameters)\n",
    "\n",
    "Let us see some examples"
   ]
  },
  {
   "cell_type": "markdown",
   "metadata": {},
   "source": [
    "#### Generating random numbers, using the module numpy.random"
   ]
  },
  {
   "cell_type": "code",
   "execution_count": null,
   "metadata": {
    "collapsed": false
   },
   "outputs": [],
   "source": [
    "# generate n random numbers distributed uniformely\n",
    "n = 1000 \n",
    "x_np = np.random.rand(n)\n",
    "plt.plot(x_np[:100])  # plot the first 100 random numbers only"
   ]
  },
  {
   "cell_type": "code",
   "execution_count": null,
   "metadata": {
    "collapsed": false
   },
   "outputs": [],
   "source": [
    "# generate n random numbers distributed normally\n",
    "n = 1000 \n",
    "x_np = np.random.randn(n)\n",
    "plt.plot(x_np[:100])  # plot the first 100 random numbers only"
   ]
  },
  {
   "cell_type": "markdown",
   "metadata": {
    "slideshow": {
     "slide_type": "slide"
    }
   },
   "source": [
    "#### Reading and writing data"
   ]
  },
  {
   "cell_type": "markdown",
   "metadata": {
    "slideshow": {
     "slide_type": "fragment"
    }
   },
   "source": [
    "* We can read and write data from/to files using basic python commands. \n",
    "* Numpy offers, however, fast and efficient functions to read and write homogeneous numerical data, using the  **np.loadtxt** and **np.savetxt** functions. \n",
    "* They can be used to write a set of vectors (with the same lenght!) to a file, ordered by columns. "
   ]
  },
  {
   "cell_type": "markdown",
   "metadata": {
    "slideshow": {
     "slide_type": "fragment"
    }
   },
   "source": [
    "Get information from ipython"
   ]
  },
  {
   "cell_type": "code",
   "execution_count": null,
   "metadata": {
    "collapsed": true,
    "slideshow": {
     "slide_type": "fragment"
    }
   },
   "outputs": [],
   "source": [
    "np.savetxt?"
   ]
  },
  {
   "cell_type": "markdown",
   "metadata": {
    "slideshow": {
     "slide_type": "fragment"
    }
   },
   "source": [
    "* Basic usage\n",
    "\n",
    "        np.savetxt(filename, objects_to_save)\n",
    "        \n",
    "* objects_to_store is a tuple of objects (vectors) that we function will save\n",
    "* The problem here is that it will save the objects one by one. If we give two vectors, it will save two rows of number\n",
    "* if we have a set of vectors we want to store as columns, so as to represent arguments and values of a function, we have to \"zip\" them\n"
   ]
  },
  {
   "cell_type": "markdown",
   "metadata": {
    "slideshow": {
     "slide_type": "slide"
    }
   },
   "source": [
    "Example"
   ]
  },
  {
   "cell_type": "code",
   "execution_count": null,
   "metadata": {
    "collapsed": false,
    "slideshow": {
     "slide_type": "fragment"
    }
   },
   "outputs": [],
   "source": [
    "# generate a set of x values\n",
    "x = np.linspace(-25, 25, 100)\n",
    "\n",
    "# generate a suitable y function\n",
    "y = x**3 - 10*x**2"
   ]
  },
  {
   "cell_type": "code",
   "execution_count": null,
   "metadata": {
    "collapsed": false,
    "slideshow": {
     "slide_type": "fragment"
    }
   },
   "outputs": [],
   "source": [
    "# save the values \n",
    "# we have to \"zip\" the values, to create a two-column format\n",
    "np.savetxt(\"Prova.dat\", zip(x,y))"
   ]
  },
  {
   "cell_type": "code",
   "execution_count": null,
   "metadata": {
    "collapsed": true
   },
   "outputs": [],
   "source": [
    "# magic command\n",
    "%more Prova.dat"
   ]
  },
  {
   "cell_type": "code",
   "execution_count": null,
   "metadata": {
    "collapsed": false,
    "slideshow": {
     "slide_type": "fragment"
    }
   },
   "outputs": [],
   "source": [
    "# now read the values again\n",
    "# we have to unzip them, we can do it with the option unpack=True\n",
    "x1, y1 = np.loadtxt(\"Prova.dat\", unpack=True)"
   ]
  },
  {
   "cell_type": "code",
   "execution_count": null,
   "metadata": {
    "collapsed": false,
    "slideshow": {
     "slide_type": "fragment"
    }
   },
   "outputs": [],
   "source": [
    "# check original and read are equal\n",
    "y == y1"
   ]
  },
  {
   "cell_type": "markdown",
   "metadata": {},
   "source": [
    "## Fancy indexing"
   ]
  },
  {
   "cell_type": "markdown",
   "metadata": {},
   "source": [
    "A very useful way of accessing numpy array elements is \"fancy indexing\", in which we can access a set of elements that are not consequtive (as in normal python slicing).\n",
    "\n",
    "There are two versions:"
   ]
  },
  {
   "cell_type": "code",
   "execution_count": null,
   "metadata": {
    "collapsed": false
   },
   "outputs": [],
   "source": [
    "# create a test array\n",
    "x = 2*np.arange(10)\n",
    "print x"
   ]
  },
  {
   "cell_type": "code",
   "execution_count": null,
   "metadata": {
    "collapsed": false
   },
   "outputs": [],
   "source": [
    "# first way: access directly the indices you want to retrieve\n",
    "indices = [0, 3, 7]\n",
    "x[indices]"
   ]
  },
  {
   "cell_type": "code",
   "execution_count": null,
   "metadata": {
    "collapsed": false
   },
   "outputs": [],
   "source": [
    "# second way: create an index array with boolen (True, False) values. \n",
    "# True values will be retrieved\n",
    "indices = np.array([False, True, False, True, False, False, True, True, False, True])\n",
    "x[indices]"
   ]
  },
  {
   "cell_type": "markdown",
   "metadata": {},
   "source": [
    "This can be conveniently used using numpy array comparisons, that yield a boolean result"
   ]
  },
  {
   "cell_type": "code",
   "execution_count": null,
   "metadata": {
    "collapsed": false
   },
   "outputs": [],
   "source": [
    "x = np.random.rand(25)\n",
    "print x\n",
    "\n",
    "# look for the values of x larger than some value\n",
    "cut = 0.5\n",
    "\n",
    "# printing the explicit values\n",
    "print x[x>cut]\n",
    "\n",
    "# calculating the number of elements fulfilling the condition; \n",
    "# boolean values are treated as 0's and 1's\n",
    "print np.sum(x>cut)"
   ]
  },
  {
   "cell_type": "code",
   "execution_count": null,
   "metadata": {
    "collapsed": false
   },
   "outputs": [],
   "source": [
    "# other forms of finding values\n",
    "np.where(x>cut)[0]  # result is given as a tuple, collect only the first element"
   ]
  },
  {
   "cell_type": "markdown",
   "metadata": {},
   "source": [
    "The `np.where` function provides the indices of the elements in which the condition in true"
   ]
  },
  {
   "cell_type": "markdown",
   "metadata": {},
   "source": [
    "## Matrix operations"
   ]
  },
  {
   "cell_type": "markdown",
   "metadata": {},
   "source": [
    "Numpy offers a `matrix` object, that is similar to an bidimensial `array`, but behaves as a matrix, im particular with respect to multiplication"
   ]
  },
  {
   "cell_type": "code",
   "execution_count": null,
   "metadata": {
    "collapsed": true
   },
   "outputs": [],
   "source": [
    "# create a bidimensiona array, using a nested list comprehension\n",
    "\n",
    "m = [[i**2 +j/2.0 + 1 for i in range(1,5)] for j in range(1,5)]"
   ]
  },
  {
   "cell_type": "code",
   "execution_count": null,
   "metadata": {
    "collapsed": false
   },
   "outputs": [],
   "source": [
    "# trasnform to array\n",
    "A = np.array(m)\n",
    "print A"
   ]
  },
  {
   "cell_type": "code",
   "execution_count": null,
   "metadata": {
    "collapsed": false
   },
   "outputs": [],
   "source": [
    "# transform to matrix\n",
    "M = np.matrix(A)\n",
    "print M"
   ]
  },
  {
   "cell_type": "markdown",
   "metadata": {},
   "source": [
    "Seem similar, but they are different objects: M is an actual matrix, as in linear algebra"
   ]
  },
  {
   "cell_type": "code",
   "execution_count": null,
   "metadata": {
    "collapsed": false
   },
   "outputs": [],
   "source": [
    "print A*A  # element-wise multiplication"
   ]
  },
  {
   "cell_type": "code",
   "execution_count": null,
   "metadata": {
    "collapsed": false
   },
   "outputs": [],
   "source": [
    "print M*M  # real matrix multiplication"
   ]
  },
  {
   "cell_type": "markdown",
   "metadata": {},
   "source": [
    "### Linear algebra with numpy matrices"
   ]
  },
  {
   "cell_type": "markdown",
   "metadata": {},
   "source": [
    "We can perform linear algebra operations with numpy matrices"
   ]
  },
  {
   "cell_type": "code",
   "execution_count": null,
   "metadata": {
    "collapsed": false
   },
   "outputs": [],
   "source": [
    "M = np.matrix([[1,3], [7,9]])\n",
    "print M"
   ]
  },
  {
   "cell_type": "code",
   "execution_count": null,
   "metadata": {
    "collapsed": false
   },
   "outputs": [],
   "source": [
    "print M.T # transpose matrix"
   ]
  },
  {
   "cell_type": "code",
   "execution_count": null,
   "metadata": {
    "collapsed": false
   },
   "outputs": [],
   "source": [
    "# determinant, from the submodule linalg\n",
    "np.linalg.det(M)"
   ]
  },
  {
   "cell_type": "code",
   "execution_count": null,
   "metadata": {
    "collapsed": false
   },
   "outputs": [],
   "source": [
    "# inverse, from the submodule linalg\n",
    "np.linalg.inv(M)"
   ]
  },
  {
   "cell_type": "code",
   "execution_count": null,
   "metadata": {
    "collapsed": false
   },
   "outputs": [],
   "source": [
    "# eigenvalues and eigenvectors\n",
    "np.linalg.eig(M)"
   ]
  },
  {
   "cell_type": "code",
   "execution_count": null,
   "metadata": {
    "collapsed": false
   },
   "outputs": [],
   "source": [
    "# Check\n",
    "evals = np.linalg.eig(M)[0]\n",
    "evecs = np.linalg.eig(M)[1]\n",
    "\n",
    "v = evecs[:,0]\n",
    "\n",
    "\n",
    "print M*v\n",
    "\n",
    "evals[0]*v"
   ]
  },
  {
   "cell_type": "markdown",
   "metadata": {},
   "source": [
    "## Numpy efficiency"
   ]
  },
  {
   "cell_type": "markdown",
   "metadata": {
    "collapsed": true
   },
   "source": [
    "Operations performed in Numpy can be orders of magnitude faster than those in pure python. This is due to the fact that numpy function and operations are coded in C under the hood. \n",
    "\n",
    "To take full advantage of numpy efficiency, use always vectorial operations when possible, and never mix numpy function (i.e. `np.sum()`) with python functions (`sum()`)"
   ]
  },
  {
   "cell_type": "markdown",
   "metadata": {},
   "source": [
    "Let us create some large arrays or random numbers in python, and multiply them"
   ]
  },
  {
   "cell_type": "code",
   "execution_count": null,
   "metadata": {
    "collapsed": false
   },
   "outputs": [],
   "source": [
    "n = 10000 # choose a reasonable number according to the speed of your computer!!\n",
    "x = []; y = []\n",
    "for i in range(n):\n",
    "    temp1 = np.random.rand()\n",
    "    temp2 = np.random.rand()\n",
    "    x.append(temp1)\n",
    "    y.append(temp2)"
   ]
  },
  {
   "cell_type": "markdown",
   "metadata": {},
   "source": [
    "Let is first multiply them the python way"
   ]
  },
  {
   "cell_type": "code",
   "execution_count": null,
   "metadata": {
    "collapsed": true
   },
   "outputs": [],
   "source": [
    "z = []\n",
    "for i in range(n):\n",
    "    temp = x[i] * y[i]\n",
    "    z.append(temp)"
   ]
  },
  {
   "cell_type": "markdown",
   "metadata": {},
   "source": [
    "To evaluate the time taken by a python statement we can use the line magic \n",
    "**%timeit** (when it is a single line command) or the cell magic **%%timeit** (when we have a whole cell of calculations to evaluate)"
   ]
  },
  {
   "cell_type": "code",
   "execution_count": null,
   "metadata": {
    "collapsed": false
   },
   "outputs": [],
   "source": [
    "%%timeit\n",
    "z = []\n",
    "for i in range(n):\n",
    "    temp = x[i] * y[i]\n",
    "    z.append(temp)"
   ]
  },
  {
   "cell_type": "markdown",
   "metadata": {},
   "source": [
    "Let's try a more pythonic way: a list comprehension"
   ]
  },
  {
   "cell_type": "code",
   "execution_count": null,
   "metadata": {
    "collapsed": false
   },
   "outputs": [],
   "source": [
    "% timeit z = [x[i] * y[i] for i in range(len(x))]"
   ]
  },
  {
   "cell_type": "markdown",
   "metadata": {},
   "source": [
    "Better, because we avoid growing the z list. In this sort of calculation, list comprehensions  are to be preferred"
   ]
  },
  {
   "cell_type": "markdown",
   "metadata": {},
   "source": [
    "We can now make it in numpy"
   ]
  },
  {
   "cell_type": "code",
   "execution_count": null,
   "metadata": {
    "collapsed": true
   },
   "outputs": [],
   "source": [
    "# first transform the lists into numpy arrays\n",
    "x_np = np.array(x)\n",
    "y_np = np.array(y)"
   ]
  },
  {
   "cell_type": "code",
   "execution_count": null,
   "metadata": {
    "collapsed": false
   },
   "outputs": [],
   "source": [
    "%%timeit\n",
    "# let us perform the operation iterating over arrays\n",
    "# create first an empty numpy array\n",
    "z_np = np.zeros(n)\n",
    "for i in range(n):\n",
    "    z_np[i] = x_np[i]*y_np[i]"
   ]
  },
  {
   "cell_type": "markdown",
   "metadata": {},
   "source": [
    "Even worse than with python arrays"
   ]
  },
  {
   "cell_type": "code",
   "execution_count": null,
   "metadata": {
    "collapsed": false
   },
   "outputs": [],
   "source": [
    "# pure numpy operation, using vectorial notation\n",
    "%timeit z_np = x_np*y_np"
   ]
  },
  {
   "cell_type": "markdown",
   "metadata": {},
   "source": [
    "When working with numpy arrays, avoid using them as lists; take advantage of vectorial form of operations whenever possible"
   ]
  },
  {
   "cell_type": "markdown",
   "metadata": {},
   "source": [
    "Numpy arrays behave as vectors, with the caveat that operations are applied in an element-wise fashin. When we multiply them by a scalar, sum them, and even apply to them functions (numpy functions, of course), the operation is performed element by element"
   ]
  },
  {
   "cell_type": "code",
   "execution_count": null,
   "metadata": {
    "collapsed": false
   },
   "outputs": [],
   "source": [
    "# beware of mixing numpy and python functions, a common source of error\n",
    "print \"Python sum\"\n",
    "%timeit sum(x)\n",
    "\n",
    "print \"numpy sum\"\n",
    "%timeit np.sum(x_np)\n",
    "\n",
    "print \"other numpy sum\"\n",
    "%timeit x_np.sum()"
   ]
  }
 ],
 "metadata": {
  "kernelspec": {
   "display_name": "Python 2",
   "language": "python",
   "name": "python2"
  },
  "language_info": {
   "codemirror_mode": {
    "name": "ipython",
    "version": 2
   },
   "file_extension": ".py",
   "mimetype": "text/x-python",
   "name": "python",
   "nbconvert_exporter": "python",
   "pygments_lexer": "ipython2",
   "version": "2.7.11"
  }
 },
 "nbformat": 4,
 "nbformat_minor": 0
}
