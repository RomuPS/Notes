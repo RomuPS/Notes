{
 "cells": [
  {
   "cell_type": "markdown",
   "metadata": {},
   "source": [
    "# Speeding up python code"
   ]
  },
  {
   "cell_type": "markdown",
   "metadata": {},
   "source": [
    "Python offers many advantages for scientific computation:\n",
    "\n",
    "* It is very easy to implement new ideas, with a time of coding that usually is much smaller than in a low-level language such as fortran or C\n",
    "\n",
    "* There are many modules implementing common algorithms, even in the scientific domain, which can save a lot of time in coding\n",
    "\n",
    "* Given that it is interpreted, it offers a more natural environment (specially aided with Ipython) for scientific exploration\n",
    "\n",
    "It has however a severe drawback\n",
    "\n",
    "* Due to the very fact that it is interpreted, it is much slower, sometimes an order of magnitude, than the corresponding algorithm coded in a compiled language\n",
    "\n",
    "There are different alternatives to speed up Python code\n",
    "\n",
    "As a rule of thumb, use numpy/scipy always if your algorithm can be expressed in vectorial form\n",
    "\n",
    "Some algorithms, however, cannot be expressed in vectorial form, for example when they involve looking at positions in an array in non sequential ways. \n",
    "\n",
    "One of the main causes of the slow performance of python is its lack of static typing\n",
    "The fact that variables do not have a predefided type makes coding faster and easier, but it imposes an computation overload, since the type of each variable must be inferred at execution time\n",
    "In compiled languages, the stric type of operations allows for a large number of optimizations, that are performed at compile time, and do not get reflected when excuting the code.\n",
    "\n",
    "Two different approaches can be applied to alleviate this problem:\n",
    "\n",
    "\n",
    "* Code specific parts of the algorithm directly in C/fortran and link them into the Python source code (or access a C/Fortran library to use some specific functions)\n",
    "\n",
    "* Somehow, compile the python code to make it ran faster\n",
    "    - This can be done appliying \"Just-in-time\" (JIT) technologies using a Low-level virtual machine (LLVM). The first time the code (usually in the form of a function) is executed, it becomes compiled, and successive executions are performed on the compiled object, achieving thus better performance.\n",
    "    \n",
    "The first approach is quite useful, since it allows to access legacy code write (and thorougly tested) in Fortran, which we do not have to reinvent (BLAS, LAPACK, etc)"
   ]
  },
  {
   "cell_type": "markdown",
   "metadata": {},
   "source": [
    "Several alternative approaches are possible:\n",
    "\n",
    "* F2py (you have already seen)\n",
    "* Numba\n",
    "* Cython\n",
    "* Ctypes\n"
   ]
  },
  {
   "cell_type": "markdown",
   "metadata": {},
   "source": [
    "## Numba"
   ]
  },
  {
   "cell_type": "markdown",
   "metadata": {},
   "source": [
    "Numba is, by far, the simplest way to jit-compile python code. One can achive this, in the simplest case, by just adding a **decorator** on top of the definition of a function. The performance of the jit-compiled code can be improved by adding additional information of the types of the parameters and output of the function, but in many cases it is not necessary.\n",
    "\n",
    "Let us see numba in action."
   ]
  },
  {
   "cell_type": "markdown",
   "metadata": {},
   "source": [
    "### An example: The Mandelbrot set"
   ]
  },
  {
   "cell_type": "markdown",
   "metadata": {},
   "source": [
    "Let us consider a classical example, the generation of the Mandelbrot set, which is defined as the set of points in the complex plane that does not approach infinity under the iterative map\n",
    "\n",
    "$$\n",
    "z_{n+1} = z_n^2 + c\n",
    "$$\n",
    "\n",
    "That is, a complex number $c$ is part of the Mandelbrot set if, starting form $z_0 = 0$, the application of the iteration leaves $z_n$ bounded for any large value of $n$. \n",
    "\n",
    "One way to depict it graphically is using the **escape time algorithm**: Fixing a number of interations, for every point in the complex plane one checks for which value of $m$ the absolute value of $z_{m}$ becomes larger than a given threshold. Then the color associated to the complex number is given by $m$. "
   ]
  },
  {
   "cell_type": "markdown",
   "metadata": {},
   "source": [
    "Let us code the generation of the mandelbrot set in pure python"
   ]
  },
  {
   "cell_type": "code",
   "execution_count": null,
   "metadata": {
    "collapsed": false
   },
   "outputs": [],
   "source": [
    "import numpy as np\n",
    "import matplotlib.pyplot as plt\n",
    "%matplotlib inline"
   ]
  },
  {
   "cell_type": "code",
   "execution_count": null,
   "metadata": {
    "collapsed": true
   },
   "outputs": [],
   "source": [
    "# create the mandelbrot set for a region of the complex plane between maximum and minimum x,y\n",
    "# the color codes are stored in a two dimensional array of pixels\n",
    "def create_mandelbrot_python(min_x, max_x, min_y, max_y, image, iters):\n",
    "    height = image.shape[0]\n",
    "    width = image.shape[1]\n",
    "\n",
    "    pixel_size_x = (max_x - min_x) / width\n",
    "    pixel_size_y = (max_y - min_y) / height\n",
    "    for x in range(width):\n",
    "        real = min_x + x * pixel_size_x\n",
    "        for y in range(height):\n",
    "            imag = min_y + y * pixel_size_y\n",
    "            color = color_mandelbrot_python(real, imag, iters)\n",
    "            image[y, x] = color\n",
    "\n",
    "    return image\n",
    "\n",
    "# define the color of each pixel according to the escape time algorithm\n",
    "def color_mandelbrot_python(x, y, max_iters):\n",
    "    i = 0\n",
    "    c = complex(x, y)\n",
    "    z = 0.0j\n",
    "    for i in range(max_iters):\n",
    "        z = z**2 + c\n",
    "        if abs(z)**2 >= 4:\n",
    "            return i\n",
    "\n",
    "    return 255"
   ]
  },
  {
   "cell_type": "code",
   "execution_count": null,
   "metadata": {
    "collapsed": false
   },
   "outputs": [],
   "source": [
    "# create the image and plot it\n",
    "image = np.zeros((500, 750), dtype=int)\n",
    "# imshow shows an image encoded in colors for each pixel\n",
    "m = create_mandelbrot_python(-1.75, 1.0, -1.0, 1.0, image, 20)\n",
    "plt.imshow(np.log(m),cmap=plt.cm.hot)\n",
    "plt.xticks([]); plt.yticks([])"
   ]
  },
  {
   "cell_type": "markdown",
   "metadata": {},
   "source": [
    "Let us time the excution of the algorithm"
   ]
  },
  {
   "cell_type": "code",
   "execution_count": null,
   "metadata": {
    "collapsed": false
   },
   "outputs": [],
   "source": [
    "%timeit create_mandelbrot_python(-1.75, 1.0, -1.0, 1.0, image, 20)"
   ]
  },
  {
   "cell_type": "markdown",
   "metadata": {},
   "source": [
    "Let us now implement a numba version. The only work to do is to add the `@jit` decorator to the function definitions"
   ]
  },
  {
   "cell_type": "code",
   "execution_count": null,
   "metadata": {
    "collapsed": true
   },
   "outputs": [],
   "source": [
    "# import jit form numba\n",
    "from numba import jit"
   ]
  },
  {
   "cell_type": "code",
   "execution_count": null,
   "metadata": {
    "collapsed": true
   },
   "outputs": [],
   "source": [
    "@jit\n",
    "def color_mandelbrot_numba(x, y, max_iters):\n",
    "    i = 0\n",
    "    c = complex(x, y)\n",
    "    z = 0.0j\n",
    "    for i in range(max_iters):\n",
    "        z = z**2 + c\n",
    "        if abs(z)**2 >= 4:\n",
    "            return i\n",
    "\n",
    "    return 255\n",
    "\n",
    "@jit\n",
    "def create_mandelbrot_numba(min_x, max_x, min_y, max_y, image, iters):\n",
    "    height = image.shape[0]\n",
    "    width = image.shape[1]\n",
    "\n",
    "    pixel_size_x = (max_x - min_x) / width\n",
    "    pixel_size_y = (max_y - min_y) / height\n",
    "    for x in range(width):\n",
    "        real = min_x + x * pixel_size_x\n",
    "        for y in range(height):\n",
    "            imag = min_y + y * pixel_size_y\n",
    "            color = color_mandelbrot_numba(real, imag, iters)\n",
    "            image[y, x] = color\n",
    "\n",
    "    return image"
   ]
  },
  {
   "cell_type": "code",
   "execution_count": null,
   "metadata": {
    "collapsed": false
   },
   "outputs": [],
   "source": [
    "# create the image and plot it\n",
    "m = create_mandelbrot_numba(-1.75, 1.0, -1.0, 1.0, image, 20)\n",
    "plt.imshow(np.log(m),cmap=plt.cm.hot)\n",
    "plt.xticks([]); plt.yticks([])"
   ]
  },
  {
   "cell_type": "code",
   "execution_count": null,
   "metadata": {
    "collapsed": false
   },
   "outputs": [],
   "source": [
    "%timeit create_mandelbrot_numba(-2.0, 1.0, -1.0, 1.0, image, 20)"
   ]
  },
  {
   "cell_type": "markdown",
   "metadata": {},
   "source": [
    "Amazingly huge gain for a tiny effort!!"
   ]
  },
  {
   "cell_type": "markdown",
   "metadata": {},
   "source": [
    "### Never never understimate the power of numpy"
   ]
  },
  {
   "cell_type": "code",
   "execution_count": null,
   "metadata": {
    "collapsed": true
   },
   "outputs": [],
   "source": [
    "def create_mandelbrot_numpy(min_x, max_x, min_y, max_y, image, iters):\n",
    "    height = image.shape[0]\n",
    "    width = image.shape[1]\n",
    "    \n",
    "    divtime = iters + np.zeros((height, width), dtype=int)\n",
    "\n",
    "    y, x = np.ogrid[ min_y:max_y:height*1j, min_x:max_x:width*1j ]\n",
    "    \n",
    "    c = x + y*1j\n",
    "    z = 0.0\n",
    "    \n",
    "    for i in range(iters):\n",
    "        z  = z**2 + c\n",
    "        diverge = z*np.conj(z) >= 2**2            # who is diverging\n",
    "        div_now = diverge & (divtime==iters)  # who is diverging now\n",
    "        divtime[div_now] = i                  # note when\n",
    "        z[diverge] = 2                        # avoid diverging too much\n",
    "\n",
    "    return divtime\n",
    "    "
   ]
  },
  {
   "cell_type": "code",
   "execution_count": null,
   "metadata": {
    "collapsed": false
   },
   "outputs": [],
   "source": [
    "%timeit create_mandelbrot_numpy(-2.0, 1.0, -1.0, 1.0, image, 20)"
   ]
  },
  {
   "cell_type": "markdown",
   "metadata": {},
   "source": [
    "Faster than pure python, but slower than numba.\n",
    "\n",
    "And the result, for some reason, is way much nicer ..."
   ]
  },
  {
   "cell_type": "code",
   "execution_count": null,
   "metadata": {
    "collapsed": false
   },
   "outputs": [],
   "source": [
    "m = create_mandelbrot_numpy(-1.75, 1.0, -1.0, 1.0, image, 20)\n",
    "plt.imshow(np.log(m),cmap=plt.cm.hot)\n",
    "plt.xticks([]); plt.yticks([])"
   ]
  },
  {
   "cell_type": "markdown",
   "metadata": {
    "collapsed": true
   },
   "source": [
    "## Profiling python code"
   ]
  },
  {
   "cell_type": "markdown",
   "metadata": {},
   "source": [
    "Numba is trivially simple to apply, but beware:\n",
    "\n",
    "*** Numba does not always produce such spectacular results ***\n",
    "\n",
    "... although it can be fine tuned a but more\n",
    "\n",
    "Sometimes we will need to use more complex optimization methods.\n",
    "\n",
    "But before using them, we must profile our code, to pinpoint the particular places where it is slower. We should then only optimize those bottlenecks.\n",
    "\n",
    "Remember: \"Premature optimization is the root of all evil\"\n",
    "\n",
    "\n",
    "\n",
    "Python, and IPython, offer several alternatives for profiling code"
   ]
  },
  {
   "cell_type": "markdown",
   "metadata": {},
   "source": [
    "### `%timeit`"
   ]
  },
  {
   "cell_type": "markdown",
   "metadata": {},
   "source": [
    "To compute the time taken by a single statement or a short calculatiion, we can bechmark them by hand using the `%timeit` and `%%timeit` line and cell magic commands, as we have already seen"
   ]
  },
  {
   "cell_type": "markdown",
   "metadata": {},
   "source": [
    "### `cProfile`"
   ]
  },
  {
   "cell_type": "markdown",
   "metadata": {},
   "source": [
    "`cProfile` is a Python module that allows to compute the time spent by every function called in a Python program\n",
    "\n",
    "We can easiy use it in an interactive sassions with IPython, using the `%%prun` magic\n"
   ]
  },
  {
   "cell_type": "code",
   "execution_count": null,
   "metadata": {
    "collapsed": false
   },
   "outputs": [],
   "source": [
    "%%prun -s cumulative -q -l 10 -T Prof1\n",
    "\n",
    "### Command arguments:\n",
    "### -s : Sort functions by time used\n",
    "### cumulative : Create a cumulative report of the time spent in each function\n",
    "### -q : Supress the pager output (cleaner output)\n",
    "### -l n : Limit the numbner of lines displayed by function\n",
    "### -T \"filename\" : Save the report on a file\n",
    "\n",
    "create_mandelbrot_python(-1.75, 1.0, -1.0, 1.0, image, 20)"
   ]
  },
  {
   "cell_type": "code",
   "execution_count": null,
   "metadata": {
    "collapsed": false
   },
   "outputs": [],
   "source": [
    "# read the report with %more magic\n",
    "!more Prof1"
   ]
  },
  {
   "cell_type": "markdown",
   "metadata": {},
   "source": [
    "### `line_profiler`"
   ]
  },
  {
   "cell_type": "markdown",
   "metadata": {},
   "source": [
    "`cProfile` profiles a Python code at the level of functions. If our code is modularized, this is the best option. But sometimes we need a more fine-grained information, at the level of the lines executed by the code. The module `line_profiler` performs this task.\n",
    "\n",
    "Unfortunately, it does not belong to the standard Python installation. It must be installed using the command\n",
    "\n",
    "    pip install line_profiler\n",
    "    \n",
    "Using it in Ipython is easy, with the extension `line_profiler`, that we have to load in out notebook session"
   ]
  },
  {
   "cell_type": "code",
   "execution_count": null,
   "metadata": {
    "collapsed": false
   },
   "outputs": [],
   "source": [
    "%load_ext line_profiler"
   ]
  },
  {
   "cell_type": "markdown",
   "metadata": {},
   "source": [
    "Now we can use it with the magic `lprun`"
   ]
  },
  {
   "cell_type": "code",
   "execution_count": null,
   "metadata": {
    "collapsed": false
   },
   "outputs": [],
   "source": [
    "# Calling it\n",
    "### Syntax:\n",
    "### -T \"filename\" : Store results in file \"filename:\n",
    "### -f function : function to profile\n",
    "%lprun -s  -T lprof0 -f create_mandelbrot_python create_mandelbrot_python(-1.75, 1.0, -1.0, 1.0, image, 20)"
   ]
  },
  {
   "cell_type": "markdown",
   "metadata": {},
   "source": [
    "Look at a function inside, that looks costly"
   ]
  },
  {
   "cell_type": "code",
   "execution_count": null,
   "metadata": {
    "collapsed": false
   },
   "outputs": [],
   "source": [
    "# Calling it\n",
    "### Syntax:\n",
    "### -T \"filename\" : Store results in file \"filename:\n",
    "### -f function : function to profile\n",
    "%lprun -s  -T lprof0 -f color_mandelbrot_python create_mandelbrot_python(-1.75, 1.0, -1.0, 1.0, image, 20)"
   ]
  },
  {
   "cell_type": "markdown",
   "metadata": {},
   "source": [
    "## Optimizing code by writing parts in other high efficiency language: Fortran or C"
   ]
  },
  {
   "cell_type": "markdown",
   "metadata": {},
   "source": [
    "### f2py\n",
    "\n",
    "`f2py` is a program that automatically wraps fortran code to use it into Python. We can compile fortran code and embed it into a module that we can then import into a Python program.\n",
    "\n",
    "`f2py` is part of numpy, so it can easily interact with it.\n"
   ]
  },
  {
   "cell_type": "code",
   "execution_count": null,
   "metadata": {
    "collapsed": true
   },
   "outputs": [],
   "source": [
    "import random"
   ]
  },
  {
   "cell_type": "code",
   "execution_count": null,
   "metadata": {
    "collapsed": true
   },
   "outputs": [],
   "source": [
    "# Example \n",
    "def scalar_product_python(x, y):\n",
    "    scalar = 0.0\n",
    "    for i in xrange(len(x)):\n",
    "        scalar += x[i]*y[i]\n",
    "        \n",
    "    return scalar"
   ]
  },
  {
   "cell_type": "code",
   "execution_count": null,
   "metadata": {
    "collapsed": false
   },
   "outputs": [],
   "source": [
    "N = 1000000\n",
    "x = [random.random() for i in xrange(N)]\n",
    "y = [random.random() for i in xrange(N)]\n",
    "\n",
    "%timeit scalar_product_python(x, y)"
   ]
  },
  {
   "cell_type": "markdown",
   "metadata": {},
   "source": [
    "Write the function in Fortran (attention old fortran 77 style only!!!)\n",
    "We use the `%%write` magic to write a file"
   ]
  },
  {
   "cell_type": "code",
   "execution_count": null,
   "metadata": {
    "collapsed": false
   },
   "outputs": [],
   "source": [
    "%%file prod.f\n",
    "      real function prod(x, y, n)\n",
    "      real x(n)\n",
    "      real y(n)\n",
    "      integer, intent(in) :: n\n",
    "\n",
    "                \n",
    "      prod = 0.0\n",
    "      do i=1,n\n",
    "         prod = prod + x(i)*y(i)\n",
    "      enddo\n",
    "      \n",
    "      end function prod\n",
    "        \n",
    "            "
   ]
  },
  {
   "cell_type": "code",
   "execution_count": null,
   "metadata": {
    "collapsed": false
   },
   "outputs": [],
   "source": [
    "# compite the file into fortran, and create a module\n",
    "!f2py -c prod.f -m prodf"
   ]
  },
  {
   "cell_type": "code",
   "execution_count": null,
   "metadata": {
    "collapsed": false
   },
   "outputs": [],
   "source": [
    "# import the module\n",
    "import prodf"
   ]
  },
  {
   "cell_type": "code",
   "execution_count": null,
   "metadata": {
    "collapsed": false
   },
   "outputs": [],
   "source": [
    "%timeit prodf.prod(x, y, N)"
   ]
  },
  {
   "cell_type": "markdown",
   "metadata": {},
   "source": [
    "Another way, using Ipython magic\n",
    "\n",
    "Attention, you hve to install \n",
    "\n",
    "    pip install fortran-magic\n",
    "    "
   ]
  },
  {
   "cell_type": "code",
   "execution_count": null,
   "metadata": {
    "collapsed": false
   },
   "outputs": [],
   "source": [
    "%load_ext fortranmagic"
   ]
  },
  {
   "cell_type": "code",
   "execution_count": null,
   "metadata": {
    "collapsed": true
   },
   "outputs": [],
   "source": [
    "%%fortran\n",
    "\n",
    "real function prod2(x, y, n)\n",
    "      real x(n)\n",
    "      real y(n)\n",
    "      integer, intent(in) :: n\n",
    "\n",
    "                \n",
    "      prod2 = 0.0\n",
    "      do i=1,n\n",
    "         prod2 = prod2 + x(i)*y(i)\n",
    "      enddo\n",
    "      \n",
    "      end function prod2\n"
   ]
  },
  {
   "cell_type": "code",
   "execution_count": null,
   "metadata": {
    "collapsed": false
   },
   "outputs": [],
   "source": [
    "%timeit prod2(x, y, N)"
   ]
  },
  {
   "cell_type": "code",
   "execution_count": null,
   "metadata": {
    "collapsed": false
   },
   "outputs": [],
   "source": [
    "# Curiosity: In numpy?\n",
    "import numpy as np\n",
    "x = np.array(x)\n",
    "y = np.array(y)"
   ]
  },
  {
   "cell_type": "code",
   "execution_count": null,
   "metadata": {
    "collapsed": false
   },
   "outputs": [],
   "source": [
    "%timeit (x*y).sum()"
   ]
  },
  {
   "cell_type": "markdown",
   "metadata": {},
   "source": [
    "Numpy seems better, but we have cheated here: `f2py` is integrated with numpy, and works beter with numpy arrays"
   ]
  },
  {
   "cell_type": "code",
   "execution_count": null,
   "metadata": {
    "collapsed": false
   },
   "outputs": [],
   "source": [
    "# now x and y are numpy arrays\n",
    "%timeit prod2(x, y, N)"
   ]
  },
  {
   "cell_type": "markdown",
   "metadata": {},
   "source": [
    "Same as numpy, or even faster. \n",
    "\n",
    "Notice, however, that we are still cheating again, since the function implements something that can be done vectorially, and vectorial operations are very fast in numpy: they are coded directly in C. Something not vectorial will perform badly in numpy and much better in Fortran"
   ]
  },
  {
   "cell_type": "markdown",
   "metadata": {},
   "source": [
    "### `Cython`"
   ]
  },
  {
   "cell_type": "markdown",
   "metadata": {},
   "source": [
    "`Cython` is both a language (a superset of Python) and a library. It allows to start with pure python, and add annotations about the type of the variables. Cython translates the python code into C and compiles it into a module that we can later use into any python program"
   ]
  },
  {
   "cell_type": "code",
   "execution_count": null,
   "metadata": {
    "collapsed": false
   },
   "outputs": [],
   "source": [
    "# first, load the ipython extension\n",
    "%load_ext cython"
   ]
  },
  {
   "cell_type": "code",
   "execution_count": null,
   "metadata": {
    "collapsed": false
   },
   "outputs": [],
   "source": [
    "%%cython\n",
    "\n",
    "def c_scalar_product_python(x, y):\n",
    "    scalar = 0.0\n",
    "    for i in xrange(len(x)):\n",
    "        scalar += x[i]*y[i]\n",
    "        \n",
    "    return scalar\n"
   ]
  },
  {
   "cell_type": "code",
   "execution_count": null,
   "metadata": {
    "collapsed": true
   },
   "outputs": [],
   "source": [
    "N = 1000000\n",
    "x = [random.random() for i in xrange(N)]\n",
    "y = [random.random() for i in xrange(N)]"
   ]
  },
  {
   "cell_type": "code",
   "execution_count": null,
   "metadata": {
    "collapsed": false
   },
   "outputs": [],
   "source": [
    "%timeit scalar_product_python(x,y)"
   ]
  },
  {
   "cell_type": "code",
   "execution_count": null,
   "metadata": {
    "collapsed": false
   },
   "outputs": [],
   "source": [
    "%timeit c_scalar_product_python(x,y)"
   ]
  },
  {
   "cell_type": "code",
   "execution_count": null,
   "metadata": {
    "collapsed": true
   },
   "outputs": [],
   "source": [
    "x = np.array(x)\n",
    "y = np.array(y)"
   ]
  },
  {
   "cell_type": "code",
   "execution_count": null,
   "metadata": {
    "collapsed": false
   },
   "outputs": [],
   "source": [
    "%timeit c_scalar_product_python(x,y)"
   ]
  },
  {
   "cell_type": "markdown",
   "metadata": {},
   "source": [
    "Some improvement, but the performance is dismal with numpy arrays. We can improve even more, by adding anotations on the types, specially when using numpy arrays"
   ]
  },
  {
   "cell_type": "code",
   "execution_count": null,
   "metadata": {
    "collapsed": true
   },
   "outputs": [],
   "source": [
    "%%cython\n",
    "cimport numpy as np\n",
    "def c_scalar_product_python_2(np.ndarray[np.float64_t, ndim=1] x, np.ndarray[np.float64_t, ndim=1] y):\n",
    "    cdef float scalar = 0.0\n",
    "    cdef int i\n",
    "    for i in xrange(len(x)):\n",
    "        scalar += x[i]*y[i]\n",
    "        \n",
    "    return scalar"
   ]
  },
  {
   "cell_type": "code",
   "execution_count": null,
   "metadata": {
    "collapsed": false
   },
   "outputs": [],
   "source": [
    "%timeit c_scalar_product_python_2(x,y)"
   ]
  },
  {
   "cell_type": "markdown",
   "metadata": {},
   "source": [
    "Again, no match for numpy, but we can improve a lot probles that do not yield easily to numpy.\n",
    "\n",
    "Additionally, observe that the improvement is the same as in the pure Fortran function, but the effort to write it is minimal"
   ]
  },
  {
   "cell_type": "code",
   "execution_count": null,
   "metadata": {
    "collapsed": true
   },
   "outputs": [],
   "source": []
  }
 ],
 "metadata": {
  "kernelspec": {
   "display_name": "Python 2",
   "language": "python",
   "name": "python2"
  },
  "language_info": {
   "codemirror_mode": {
    "name": "ipython",
    "version": 2
   },
   "file_extension": ".py",
   "mimetype": "text/x-python",
   "name": "python",
   "nbconvert_exporter": "python",
   "pygments_lexer": "ipython2",
   "version": "2.7.11"
  }
 },
 "nbformat": 4,
 "nbformat_minor": 0
}
