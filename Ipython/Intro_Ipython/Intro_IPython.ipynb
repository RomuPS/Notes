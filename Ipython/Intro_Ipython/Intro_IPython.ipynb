{
 "cells": [
  {
   "cell_type": "markdown",
   "metadata": {},
   "source": [
    "# Introduction to Ipython notebook"
   ]
  },
  {
   "cell_type": "markdown",
   "metadata": {},
   "source": [
    "The Ipython notebook is an enviroment that can combine code, execution, text and plots, in the style of Matlab, Mathematica, or Maple.\n",
    "\n",
    "The nice thing of these last three is that they provide a notebook environment. You can have it also in Python.\n",
    "\n",
    "The backend is a python kernel server, to which connects a client in the browser by means of HTTP web protocols.\n",
    "\n",
    "Code typed in sent to the kernel, executed there, and the results returned back to the browser client."
   ]
  },
  {
   "cell_type": "markdown",
   "metadata": {},
   "source": [
    "To start ipython we can use the command line\n",
    "\n",
    "    ipython notebook\n",
    "    \n",
    "or\n",
    "\n",
    "    jupyter notebook\n",
    "    \n",
    "Or the Launcher\n",
    "\n",
    "<img src=\"Screen Shot 2015-09-08 at 10.23.54.png\" width=\"700\">\n"
   ]
  },
  {
   "cell_type": "markdown",
   "metadata": {},
   "source": [
    "After starting Ipython, we are presented with a navigator, in which we can select the folder and file we want to edit or start a new notebook.\n",
    "\n",
    "<img src=\"Screen Shot 2015-09-08 at 10.26.25.png\" width=\"700\">\n",
    "\n"
   ]
  },
  {
   "cell_type": "markdown",
   "metadata": {},
   "source": [
    "In an Ipython notebook, the input is divided in cells, that can contain text, in Markdown mode, or python code input, in code cells.\n",
    "\n",
    "\n",
    "<img src=\"Screen Shot 2016-04-26 at 17.46.10.png\" width=\"700\">\n"
   ]
  },
  {
   "cell_type": "markdown",
   "metadata": {},
   "source": [
    "This is a markdown cell with text. To see the raw content, double click on it. To *render* it, we execute the cell pressing Shift + Intro"
   ]
  },
  {
   "cell_type": "code",
   "execution_count": null,
   "metadata": {
    "collapsed": false
   },
   "outputs": [],
   "source": [
    "# This is code cell, we execute it pressing also Shift + Intro\n",
    "\n",
    "print 1+2"
   ]
  },
  {
   "cell_type": "markdown",
   "metadata": {},
   "source": [
    "In the notebook we can execute cells with more than one line of code, in the style of matlab or mathematica"
   ]
  },
  {
   "cell_type": "code",
   "execution_count": null,
   "metadata": {
    "collapsed": false,
    "scrolled": true
   },
   "outputs": [],
   "source": [
    "a = 5\n",
    "b = 10\n",
    "\n",
    "print \"a + b = %d\" % (a + b)\n",
    "print \"a * b = %d\" % (a * b)"
   ]
  },
  {
   "cell_type": "markdown",
   "metadata": {},
   "source": [
    "In the menu we can find useful drop-down menus to perform simple tasks to edit our notebook. The best way to know them is to experiment\n",
    "\n",
    "Most important, the kernel menu, where we can kill the execution if we run intro trouble."
   ]
  },
  {
   "cell_type": "markdown",
   "metadata": {},
   "source": [
    "The use of the notebook allows to develop code faster in an exploratory way, writing small pieces successively, thus concentrating in the implementation of the algorithm, and not in the details of programming language.\n",
    "\n",
    "Running long codes from the notebook is however not advisable.\n",
    "\n",
    "We sould never thus forget to refactor our code into a standalone python program, encapsulating the different pieces of the algorithms in function or modules, to allow for reusability."
   ]
  },
  {
   "cell_type": "markdown",
   "metadata": {},
   "source": [
    "# Markdown essentials for documenting an Ipython notebook\n",
    "\n",
    "Here are some examples of formatting with markdown (click in the cell to see the markdown source):\n",
    "\n",
    "Headers:\n",
    "\n",
    "# Header 1\n",
    "## Header 2\n",
    "### Header 3\n",
    "###### Header 6\n",
    "\n",
    "Lists:\n",
    "\n",
    "*   Red\n",
    "*   Green\n",
    "*   Blue\n",
    "\n",
    "Nested lists:\n",
    "\n",
    "*   Red\n",
    "    - Strawberry, cherry\n",
    "*   Green\n",
    "    - Apple, pear\n",
    "*   Blue\n",
    "    - None\n",
    "        - As far as I know\n",
    "        \n",
    "Ordered lists:\n",
    "\n",
    "1.  Bird\n",
    "2.  McHale\n",
    "3.  Parish\n",
    " \n",
    "\n",
    "Code blocks:\n",
    "\n",
    "    for i in xrange(1000):\n",
    "        print i\n",
    "        \n",
    "        \n",
    "Inline code:\n",
    "\n",
    "Use the `printf()` function.\n",
    "\n",
    "Horizontal rules:\n",
    "\n",
    "***\n",
    "\n",
    "- - -\n",
    "\n",
    "_______\n",
    "\n",
    "HTML links:\n",
    "\n",
    "This is [an example](http://example.com/ \"Title\") inline link.\n",
    "\n",
    "Emphasis:\n",
    "\n",
    "*italics*\n",
    "\n",
    "_italics_\n",
    "\n",
    "**bold face**\n",
    "\n",
    "__bold face__\n",
    "\n",
    "Including a picture:\n",
    "\n",
    "<img src=\"leno.jpg\" width=\"300\">"
   ]
  },
  {
   "cell_type": "markdown",
   "metadata": {},
   "source": [
    "# Accessing the system"
   ]
  },
  {
   "cell_type": "markdown",
   "metadata": {},
   "source": [
    "We can access the file system from the notebook, using the '!' symbol"
   ]
  },
  {
   "cell_type": "code",
   "execution_count": null,
   "metadata": {
    "collapsed": false
   },
   "outputs": [],
   "source": [
    "!ls -l  # unix command"
   ]
  },
  {
   "cell_type": "markdown",
   "metadata": {},
   "source": [
    "Some useful commands are built-in"
   ]
  },
  {
   "cell_type": "code",
   "execution_count": null,
   "metadata": {
    "collapsed": false
   },
   "outputs": [],
   "source": [
    "ll  # an alias for ls -l"
   ]
  },
  {
   "cell_type": "markdown",
   "metadata": {},
   "source": [
    "# Magic commands"
   ]
  },
  {
   "cell_type": "markdown",
   "metadata": {},
   "source": [
    "Ipython includes a number of \"magic\" commands, that offer increased functionality beyond python.\n",
    "\n",
    "Magic commands come on two flavors:\n",
    "\n",
    "* Line magic commands: Prefixed with the character '%'. They work as functions, with the rest of the line treated as arguments\n",
    "    \n",
    "* Cell magic commands: Prefixed with the character '%%'. The affect the behavior of the whole cell"
   ]
  },
  {
   "cell_type": "markdown",
   "metadata": {},
   "source": [
    "### Line magic commands\n",
    "\n",
    "* `%timeit`: Estimate the performance of a function, running it in a loop several times\n",
    "* `%edit`: Start the default editor to edit a file\n",
    "* `%automagic`: Make magic commands callable without the '%' character\n",
    "* `%magic`: Information on magic commands"
   ]
  },
  {
   "cell_type": "markdown",
   "metadata": {},
   "source": [
    "### Cell magic commands\n",
    "\n",
    "* `%%writefile` filename: Writes the contents of the cell into file `filename`\n",
    "* `%%timeit`: Benchmarks the execution of a whole cell\n"
   ]
  },
  {
   "cell_type": "markdown",
   "metadata": {},
   "source": [
    "# Using the notebook: Simple math in Python"
   ]
  },
  {
   "cell_type": "markdown",
   "metadata": {},
   "source": [
    "Python has a math library that implements some useful mathematical functions"
   ]
  },
  {
   "cell_type": "code",
   "execution_count": null,
   "metadata": {
    "collapsed": true
   },
   "outputs": [],
   "source": [
    "import math"
   ]
  },
  {
   "cell_type": "markdown",
   "metadata": {},
   "source": [
    "You can explore the functions provided by this module by using the Tab completion, which also works in the notebook.\n",
    "\n",
    "Never forget it to explore or remember functionality, using also the help command (?)"
   ]
  },
  {
   "cell_type": "code",
   "execution_count": null,
   "metadata": {
    "collapsed": true
   },
   "outputs": [],
   "source": [
    "math."
   ]
  },
  {
   "cell_type": "code",
   "execution_count": null,
   "metadata": {
    "collapsed": true
   },
   "outputs": [],
   "source": [
    "math.sinh?"
   ]
  },
  {
   "cell_type": "code",
   "execution_count": null,
   "metadata": {
    "collapsed": false
   },
   "outputs": [],
   "source": [
    "print math.sin(3)"
   ]
  },
  {
   "cell_type": "markdown",
   "metadata": {},
   "source": [
    "We will not use this library much, since there is a much better alternative"
   ]
  },
  {
   "cell_type": "markdown",
   "metadata": {},
   "source": [
    "To generate random numbers, we can use the built-in library `random`"
   ]
  },
  {
   "cell_type": "code",
   "execution_count": null,
   "metadata": {
    "collapsed": true
   },
   "outputs": [],
   "source": [
    "# import the module\n",
    "import random as rn  # abbreaviated way"
   ]
  },
  {
   "cell_type": "code",
   "execution_count": null,
   "metadata": {
    "collapsed": true
   },
   "outputs": [],
   "source": [
    "# explore with Tab\n",
    "rn."
   ]
  },
  {
   "cell_type": "code",
   "execution_count": null,
   "metadata": {
    "collapsed": true
   },
   "outputs": [],
   "source": [
    "# start with a seed, in order to reproduce results \n",
    "rn.seed(123)"
   ]
  },
  {
   "cell_type": "markdown",
   "metadata": {},
   "source": [
    "If it is ommited, the current system time is used instead"
   ]
  },
  {
   "cell_type": "code",
   "execution_count": null,
   "metadata": {
    "collapsed": false
   },
   "outputs": [],
   "source": [
    "# generate a random float number\n",
    "rn.random()"
   ]
  },
  {
   "cell_type": "code",
   "execution_count": null,
   "metadata": {
    "collapsed": false
   },
   "outputs": [],
   "source": [
    "# generate a random integer between a minimum and a maximum\n",
    "rn.randint(1, 10)"
   ]
  },
  {
   "cell_type": "code",
   "execution_count": null,
   "metadata": {
    "collapsed": true
   },
   "outputs": [],
   "source": [
    "# return a random element from a list\n",
    "rn.choice?"
   ]
  },
  {
   "cell_type": "markdown",
   "metadata": {},
   "source": [
    "We have to provide a list. To generate it, we can use cool python trick: list comprehensions"
   ]
  },
  {
   "cell_type": "code",
   "execution_count": null,
   "metadata": {
    "collapsed": false
   },
   "outputs": [],
   "source": [
    "# generate a list of the first 100 square numbers, [1, 2, 4, 9, ...]\n",
    "l = [x**2 for x in xrange(1, 101)]\n",
    "# print the first 10 numbers\n",
    "print l[:10]"
   ]
  },
  {
   "cell_type": "code",
   "execution_count": null,
   "metadata": {
    "collapsed": false
   },
   "outputs": [],
   "source": [
    "rn.choice(l)"
   ]
  },
  {
   "cell_type": "code",
   "execution_count": null,
   "metadata": {
    "collapsed": false
   },
   "outputs": [],
   "source": [
    "# return a sample of k different elements of a list\n",
    "rn.sample(l, 5)   # k =5"
   ]
  },
  {
   "cell_type": "markdown",
   "metadata": {},
   "source": [
    "Again, we will not use it very often, since there are better and more efficient alternatives"
   ]
  },
  {
   "cell_type": "markdown",
   "metadata": {},
   "source": [
    "# Third party libraries for scientific computing in Python"
   ]
  },
  {
   "cell_type": "markdown",
   "metadata": {
    "slideshow": {
     "slide_type": "slide"
    }
   },
   "source": [
    "* Python is an excellent all-purpose programming language that can also be adopted for scientific programming\n",
    "* The main advantages of python for scientific computing are the same as for general programming:\n",
    "    - It is very expressive, allowing to code the same algorithm in much less lines that a lower level language (C, Fortran)\n",
    "    - It allows for fast prototipyng in exploratory research, specially at the first stages of a project, where one is interested in exploring the possibilities of a new idea\n",
    "    - The ipython shell and notebook greatly increases its usability in the exploratory phase\n",
    "    \n",
    "* It has, however, some drawbacks \n",
    "    - Pure python has poor capabilities for numerical analysis\n",
    "    - It is definitely slow, compared with a compiled language\n",
    "* To solve this problems, the community has developed some third party modules, particularly numpy, with wich python numerical capabilities can be highly incresed, beyond the speed of other popular numerical software, such as matlab, octave or mathematica."
   ]
  },
  {
   "cell_type": "markdown",
   "metadata": {
    "slideshow": {
     "slide_type": "slide"
    }
   },
   "source": [
    "Here we will see different modules that are used to increase speed, performance and also expressiveness in python applied to scientific computing"
   ]
  },
  {
   "cell_type": "markdown",
   "metadata": {
    "slideshow": {
     "slide_type": "slide"
    }
   },
   "source": [
    "## Modules for scientific computing in Python"
   ]
  },
  {
   "cell_type": "markdown",
   "metadata": {
    "slideshow": {
     "slide_type": "fragment"
    }
   },
   "source": [
    "There are many, many, modules that have been developed by the community for application in the scientific domain.\n",
    "\n",
    "The fields covered are:\n",
    "\n",
    "* Numerical analysis\n",
    "* Data analysis\n",
    "* Machine learning\n",
    "* Network analysis\n",
    "* Image processing\n",
    "* Life sciences\n",
    "* Bioinformatics\n",
    "* Quantum physics\n",
    "* Chemistry\n",
    "* Space sciences\n",
    "* Finance\n",
    "* Symbolic analysis\n",
    "* etc, etc, etc\n",
    "\n",
    "See for more information https://wiki.python.org/moin/NumericAndScientific/Libraries"
   ]
  },
  {
   "cell_type": "markdown",
   "metadata": {
    "slideshow": {
     "slide_type": "slide"
    }
   },
   "source": [
    "Here we will cover an introduction to two of the most important scientific modules in python\n",
    "\n",
    "* Matplotlib\n",
    "    - Scientific plotting in Python\n",
    "* Numpy\n",
    "    - Numerical arrays, specially efficient for high velocity calculations\n",
    "* Scipy\n",
    "    - Auxiliary numerical functions and algorithms\n",
    "* Sympy\n",
    "    - Symbolic calculations, an alternative to Mathematica\n",
    "* Numba\n",
    "    - Accelerate python code"
   ]
  }
 ],
 "metadata": {
  "kernelspec": {
   "display_name": "Python 2",
   "language": "python",
   "name": "python2"
  },
  "language_info": {
   "codemirror_mode": {
    "name": "ipython",
    "version": 2
   },
   "file_extension": ".py",
   "mimetype": "text/x-python",
   "name": "python",
   "nbconvert_exporter": "python",
   "pygments_lexer": "ipython2",
   "version": "2.7.11"
  }
 },
 "nbformat": 4,
 "nbformat_minor": 0
}
