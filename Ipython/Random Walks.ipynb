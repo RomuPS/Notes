{
 "cells": [
  {
   "cell_type": "markdown",
   "metadata": {},
   "source": [
    "# Random walks in 1 d"
   ]
  },
  {
   "cell_type": "code",
   "execution_count": null,
   "metadata": {
    "collapsed": true
   },
   "outputs": [],
   "source": [
    "# load useful modules\n",
    "import numpy as np\n",
    "import matplotlib.pyplot as plt\n",
    "import random\n",
    "%matplotlib inline\n",
    "%config  InlineBackend.figure_format=\"svg\""
   ]
  },
  {
   "cell_type": "markdown",
   "metadata": {},
   "source": [
    "## Pure Python version"
   ]
  },
  {
   "cell_type": "code",
   "execution_count": null,
   "metadata": {
    "collapsed": false
   },
   "outputs": [],
   "source": [
    "def sample(N, p):\n",
    "    \"\"\"\n",
    "        Function that generates a sample of a random walk\n",
    "        Parameters: N = length of the walk\n",
    "                    p = probability of right step\n",
    "                    \n",
    "        Returns :   Path of the random walk\n",
    "    \"\"\"\n",
    "    \n",
    "    pos = [0 for i in xrange(N+1)]\n",
    "    for i in xrange(1, N+1):\n",
    "        if random.random() < p:   # pure python\n",
    "            step = 1\n",
    "        else:\n",
    "            step = -1\n",
    "        pos[i] = pos[i-1] + step\n",
    "\n",
    "    return pos\n",
    "        "
   ]
  },
  {
   "cell_type": "code",
   "execution_count": null,
   "metadata": {
    "collapsed": false
   },
   "outputs": [],
   "source": [
    "#useful\n",
    "help(sample)"
   ]
  },
  {
   "cell_type": "code",
   "execution_count": null,
   "metadata": {
    "collapsed": false
   },
   "outputs": [],
   "source": [
    "def averages(N, iterations, p):\n",
    "    \"\"\"\"\n",
    "        Function that computes averages over many iterations of the random walk\n",
    "        Parameters: N = length of the walk\n",
    "                    iterations = Number of iterations to average\n",
    "                    p = probability of right step\n",
    "        \n",
    "        Returns :   mean = mean positon as a function of time\n",
    "                    var = variance of position as a function of time\n",
    "    \"\"\"\"\"\n",
    "\n",
    "    aver = [0.0 for i in xrange(N+1)]\n",
    "    aver2 = [0.0 for i in xrange(N+1)]\n",
    "    \n",
    "    for i in xrange(iterations):\n",
    "        pos = sample(N, p)\n",
    "        for j in xrange(0, N+1):\n",
    "            aver[j] += pos[j]\n",
    "            aver2[j] += (pos[j]*pos[j])\n",
    " \n",
    "    mean = [x/float(iterations) for x in aver]\n",
    "    var = [aver2[i]/float(iterations) - mean[i]*mean[i] for i in xrange(0, N+1)]\n",
    "    \n",
    "    return mean, var"
   ]
  },
  {
   "cell_type": "code",
   "execution_count": null,
   "metadata": {
    "collapsed": true
   },
   "outputs": [],
   "source": [
    "def main(N, iterations, p):\n",
    "    \"\"\"\"\n",
    "        Main function: Computes average position and variance as a function of time, and the theoretical prediction\n",
    "        Parameters: N = length of the walk\n",
    "                    iterations = Number of iterations to average\n",
    "                    p = probability of right step\n",
    "        Retunrs: time, mean, mean theoretical, variance, vartheo\n",
    "    \"\"\"\"\"\n",
    "    \n",
    "    q = 1.0 -p\n",
    "    \n",
    "    mean, var = averages(N, iterations, p)\n",
    "    \n",
    "    # auxiliar numpy array\n",
    "    t = np.arange(0, N+1)\n",
    "    \n",
    "    # theoretical values\n",
    "    mean_theo = (p - q)*t\n",
    "    var_theo = 4.0*p*q*t\n",
    "    \n",
    "    return t, mean, mean_theo, var, var_theo\n",
    "  "
   ]
  },
  {
   "cell_type": "code",
   "execution_count": null,
   "metadata": {
    "collapsed": false
   },
   "outputs": [],
   "source": [
    "def plot_walk(skip, *arg):\n",
    "    \"\"\"\"\"\n",
    "        Plots results:\n",
    "        Trick: Variable number of arguments, from expanding a tuple\n",
    "        Parameters:  skip = number of points in real data to skip (clearer figure)\n",
    "        Assumes arguments in the order t, mean, mean_theo, var, var_theo\n",
    "    \"\"\"\"\"\n",
    "    t, mean, mean_theo, var, var_theo = arg\n",
    "    plt.figure(figsize=(8,4))\n",
    "    \n",
    "    plt.subplot(1,2,1)\n",
    "    plt.title(\"Average position\")\n",
    "    plt.plot(t[::skip], mean[::skip], \"or\", t, mean_theo, \"k\")\n",
    "    plt.xlabel(\"Time\")\n",
    "    plt.ylabel(\"Average\")\n",
    "    \n",
    "    plt.subplot(1,2,2)\n",
    "    plt.title(\"Variance\")\n",
    "    plt.plot(t[::skip], var[::skip], \"or\", t, var_theo, \"k\")\n",
    "    plt.xlabel(\"Time\")\n",
    "    plt.ylabel(\"Variance\")"
   ]
  },
  {
   "cell_type": "code",
   "execution_count": null,
   "metadata": {
    "collapsed": false
   },
   "outputs": [],
   "source": [
    "# Run simulations\n",
    "t, m, mt, v, vt = main(10000, 100, 0.55)"
   ]
  },
  {
   "cell_type": "code",
   "execution_count": null,
   "metadata": {
    "collapsed": false
   },
   "outputs": [],
   "source": [
    "# plot skipping 1\n",
    "skip = 1\n",
    "plot_walk(skip, t, m, mt, v, vt)"
   ]
  },
  {
   "cell_type": "code",
   "execution_count": null,
   "metadata": {
    "collapsed": false
   },
   "outputs": [],
   "source": [
    "# plot skipping 500\n",
    "skip = 500\n",
    "plot_walk(skip, t, m, mt, v, vt)"
   ]
  },
  {
   "cell_type": "code",
   "execution_count": null,
   "metadata": {
    "collapsed": false
   },
   "outputs": [],
   "source": [
    "# It is quite noisy for the variance. Increase the number of iterations\n",
    "t, m, mt, v, vt = main(10000, 500, 0.55)"
   ]
  },
  {
   "cell_type": "code",
   "execution_count": null,
   "metadata": {
    "collapsed": false
   },
   "outputs": [],
   "source": [
    "# plot skipping 500\n",
    "skip = 500\n",
    "plot_walk(skip, t, m, mt, v, vt)"
   ]
  },
  {
   "cell_type": "markdown",
   "metadata": {},
   "source": [
    "Much better. The algorithm works. Now let us bechmarck it using the simple `%timeit`"
   ]
  },
  {
   "cell_type": "code",
   "execution_count": null,
   "metadata": {
    "collapsed": false
   },
   "outputs": [],
   "source": [
    "%timeit main(10000, 500, 0.55)"
   ]
  },
  {
   "cell_type": "markdown",
   "metadata": {},
   "source": [
    "Cuold be ok, but is still of the order of seconds.\n",
    "\n",
    "Let us try to improve it, first with a simple numpy version"
   ]
  },
  {
   "cell_type": "markdown",
   "metadata": {},
   "source": [
    "## Numpy version"
   ]
  },
  {
   "cell_type": "code",
   "execution_count": null,
   "metadata": {
    "collapsed": true
   },
   "outputs": [],
   "source": [
    "def sample_np(N, p):\n",
    "    \"\"\"\"\n",
    "        Function that generates a sample of a random walk\n",
    "        Parameters: N = length of the walk\n",
    "                    p = probability of right step\n",
    "                    \n",
    "        Returns :   Path of the random walk\n",
    "    \"\"\"\n",
    "    # create an array of steps using some numpy trick\n",
    "    steps = 2*(np.random.rand(N+1)<p) -1\n",
    "    # initialize first step\n",
    "    steps[0] = 0\n",
    "    \n",
    "    # compute the path as the cumulative sume of the steps\n",
    "    pos = steps.cumsum()\n",
    "\n",
    "    return pos"
   ]
  },
  {
   "cell_type": "code",
   "execution_count": null,
   "metadata": {
    "collapsed": false
   },
   "outputs": [],
   "source": [
    "def averages_np(N, iterations, p):\n",
    "    \"\"\"\"\n",
    "        Function that computes averages over many iterations of the random walk\n",
    "        Parameters: N = length of the walk\n",
    "                    iterations = Number of iterations to average\n",
    "                    p = probability of right step\n",
    "        \n",
    "        Returns :   mean = mean positon as a function of time\n",
    "                    var = variance of position as a function of time\n",
    "    \"\"\"\"\"\n",
    "\n",
    "    aver = np.zeros(N+1)\n",
    "    aver2 = np.zeros(N+1)\n",
    "    \n",
    "    for i in xrange(iterations):\n",
    "        pos = sample_np(N, p)\n",
    "        aver += pos\n",
    "        aver2 += (pos*pos)\n",
    "    \n",
    "    mean = aver/float(iterations)\n",
    "    var = aver2/float(iterations) - mean*mean\n",
    "    \n",
    "    return mean, var"
   ]
  },
  {
   "cell_type": "code",
   "execution_count": null,
   "metadata": {
    "collapsed": true
   },
   "outputs": [],
   "source": [
    "def main_np(N, iterations, p):\n",
    "    \"\"\"\"\n",
    "        Main function: Computes average position and variance as a function of time, and the theoretical prediction\n",
    "        Parameters: N = length of the walk\n",
    "                    iterations = Number of iterations to average\n",
    "                    p = probability of right step\n",
    "        Retunrs: time, mean, mean theoretical, variance, vartheo\n",
    "    \"\"\"\"\"\n",
    "    \n",
    "    q = 1.0 -p\n",
    "    \n",
    "    mean, var = averages_np(N, iterations, p)\n",
    "    \n",
    "    # auxiliar numpy array\n",
    "    t = np.arange(0, N+1)\n",
    "    \n",
    "    # theoretical values\n",
    "    mean_theo = (p - q)*t\n",
    "    var_theo = 4.0*p*q*t\n",
    "    \n",
    "    return t, mean, mean_theo, var, var_theo"
   ]
  },
  {
   "cell_type": "code",
   "execution_count": null,
   "metadata": {
    "collapsed": false
   },
   "outputs": [],
   "source": [
    "# Run simulations\n",
    "t, m, mt, v, vt = main_np(10000, 1000, 0.55)"
   ]
  },
  {
   "cell_type": "code",
   "execution_count": null,
   "metadata": {
    "collapsed": false
   },
   "outputs": [],
   "source": [
    "# plot skipping 500\n",
    "skip = 500\n",
    "plot_walk(skip, t, m, mt, v, vt)"
   ]
  },
  {
   "cell_type": "markdown",
   "metadata": {},
   "source": [
    "Seems ok. Let us benchmark it"
   ]
  },
  {
   "cell_type": "code",
   "execution_count": null,
   "metadata": {
    "collapsed": false
   },
   "outputs": [],
   "source": [
    "%timeit main_np(10000, 1000, 0.55)"
   ]
  },
  {
   "cell_type": "markdown",
   "metadata": {},
   "source": [
    "Notice how it is much faster: I used 1000 iterations here!!"
   ]
  },
  {
   "cell_type": "markdown",
   "metadata": {},
   "source": [
    "## Profiling the pure python code"
   ]
  },
  {
   "cell_type": "markdown",
   "metadata": {},
   "source": [
    "### `cProfile`"
   ]
  },
  {
   "cell_type": "code",
   "execution_count": null,
   "metadata": {
    "collapsed": false
   },
   "outputs": [],
   "source": [
    "%%prun -s cumulative -q -l 10 -T Prof1\n",
    "\n",
    "main(10000, 500, 0.55)"
   ]
  },
  {
   "cell_type": "code",
   "execution_count": null,
   "metadata": {
    "collapsed": false
   },
   "outputs": [],
   "source": [
    "!more Prof1"
   ]
  },
  {
   "cell_type": "code",
   "execution_count": null,
   "metadata": {
    "collapsed": false
   },
   "outputs": [],
   "source": [
    "%%prun -s cumulative -q -l 10 -T Prof1\n",
    "\n",
    "main(50000, 500, 0.55)"
   ]
  },
  {
   "cell_type": "code",
   "execution_count": null,
   "metadata": {
    "collapsed": false
   },
   "outputs": [],
   "source": [
    "!more Prof1"
   ]
  },
  {
   "cell_type": "markdown",
   "metadata": {},
   "source": [
    "### `line_profiler`"
   ]
  },
  {
   "cell_type": "markdown",
   "metadata": {},
   "source": [
    "Remember: you must install line profiler using\n",
    "\n",
    "    pip install line_profiler"
   ]
  },
  {
   "cell_type": "code",
   "execution_count": null,
   "metadata": {
    "collapsed": true
   },
   "outputs": [],
   "source": [
    "%load_ext line_profiler"
   ]
  },
  {
   "cell_type": "code",
   "execution_count": null,
   "metadata": {
    "collapsed": false
   },
   "outputs": [],
   "source": [
    "%lprun -T lprof0 -f main main(10000, 1000, 0.55)"
   ]
  },
  {
   "cell_type": "markdown",
   "metadata": {
    "collapsed": false
   },
   "source": [
    "`averages` is costly: look inside"
   ]
  },
  {
   "cell_type": "code",
   "execution_count": null,
   "metadata": {
    "collapsed": false
   },
   "outputs": [],
   "source": [
    "%lprun -T lprof0 -f averages main(10000, 1000, 0.55)"
   ]
  },
  {
   "cell_type": "markdown",
   "metadata": {},
   "source": [
    "The function `sample` appears to be very costly. We should try to improve it"
   ]
  },
  {
   "cell_type": "markdown",
   "metadata": {},
   "source": [
    "## Simple numba optimization"
   ]
  },
  {
   "cell_type": "code",
   "execution_count": null,
   "metadata": {
    "collapsed": true
   },
   "outputs": [],
   "source": [
    "# import jit form numba\n",
    "from numba import jit"
   ]
  },
  {
   "cell_type": "code",
   "execution_count": null,
   "metadata": {
    "collapsed": false
   },
   "outputs": [],
   "source": [
    "@jit\n",
    "def sample_nb(N, p):\n",
    "    \"\"\"\"\n",
    "        Function that generates a sample of a random walk\n",
    "        Parameters: N = length of the walk\n",
    "                    p = probability of right step\n",
    "                    \n",
    "        Returns :   Path of the random walk\n",
    "    \"\"\"\n",
    "    \n",
    "    pos = [0 for i in xrange(N+1)]\n",
    "    for i in xrange(1, N+1):\n",
    "        if random.random() < p:   # pure python\n",
    "            step = 1\n",
    "        else:\n",
    "            step = -1\n",
    "        pos[i] = pos[i-1] + step\n",
    "\n",
    "    return pos\n",
    "        \n",
    "    \n",
    "@jit\n",
    "def averages_nb(N, iterations, p):\n",
    "    \"\"\"\"\n",
    "        Function that computes averages over many iterations of the random walk\n",
    "        Parameters: N = length of the walk\n",
    "                    iterations = Number of iterations to average\n",
    "                    p = probability of right step\n",
    "        \n",
    "        Returns :   mean = mean positon as a function of time\n",
    "                    var = variance of position as a function of time\n",
    "    \"\"\"\"\"\n",
    "\n",
    "    aver = [0.0 for i in xrange(N+1)]\n",
    "    aver2 = [0.0 for i in xrange(N+1)]\n",
    "    \n",
    "    for i in xrange(iterations):\n",
    "        pos = sample_nb(N, p)\n",
    "        for j in xrange(0, N+1):\n",
    "            aver[j] += pos[j]\n",
    "            aver2[j] += (pos[j]*pos[j])\n",
    " \n",
    "    mean = [x/float(iterations) for x in aver]\n",
    "    var = [aver2[i]/float(iterations) - mean[i]*mean[i] for i in xrange(0, N+1)]\n",
    "    \n",
    "    return mean, var\n",
    "\n",
    "@jit\n",
    "def main_nb(N, iterations, p):\n",
    "    \"\"\"\"\n",
    "        Main function: Computes average position and variance as a function of time, and the theoretical prediction\n",
    "        Parameters: N = length of the walk\n",
    "                    iterations = Number of iterations to average\n",
    "                    p = probability of right step\n",
    "        Retunrs: time, mean, mean theoretical, variance, vartheo\n",
    "    \"\"\"\"\"\n",
    "    \n",
    "    q = 1.0 -p\n",
    "    \n",
    "    mean, var = averages_nb(N, iterations, p)\n",
    "    \n",
    "    # auxiliar numpy array\n",
    "    t = np.arange(0, N+1)\n",
    "    \n",
    "    # theoretical values\n",
    "    mean_theo = (p - q)*t\n",
    "    var_theo = 4.0*p*q*t\n",
    "    \n",
    "    return t, mean, mean_theo, var, var_theo\n",
    "  "
   ]
  },
  {
   "cell_type": "code",
   "execution_count": null,
   "metadata": {
    "collapsed": false
   },
   "outputs": [],
   "source": [
    "sample_nb(10000, 0.55)"
   ]
  },
  {
   "cell_type": "code",
   "execution_count": null,
   "metadata": {
    "collapsed": true
   },
   "outputs": [],
   "source": []
  }
 ],
 "metadata": {
  "kernelspec": {
   "display_name": "Python 2",
   "language": "python",
   "name": "python2"
  },
  "language_info": {
   "codemirror_mode": {
    "name": "ipython",
    "version": 2
   },
   "file_extension": ".py",
   "mimetype": "text/x-python",
   "name": "python",
   "nbconvert_exporter": "python",
   "pygments_lexer": "ipython2",
   "version": "2.7.11"
  }
 },
 "nbformat": 4,
 "nbformat_minor": 0
}
